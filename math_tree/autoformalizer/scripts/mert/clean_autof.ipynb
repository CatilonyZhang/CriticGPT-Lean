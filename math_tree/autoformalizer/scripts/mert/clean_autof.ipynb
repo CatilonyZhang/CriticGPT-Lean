{
 "cells": [
  {
   "cell_type": "code",
   "execution_count": 44,
   "metadata": {},
   "outputs": [],
   "source": [
    "from datasets import load_dataset, concatenate_datasets\n",
    "from collections import Counter\n"
   ]
  },
  {
   "cell_type": "code",
   "execution_count": 45,
   "metadata": {},
   "outputs": [
    {
     "data": {
      "text/plain": [
       "Dataset({\n",
       "    features: ['natural_language', 'lean_code', 'theorem_names', 'has_header', 'source', 'id'],\n",
       "    num_rows: 44509\n",
       "})"
      ]
     },
     "execution_count": 45,
     "metadata": {},
     "output_type": "execute_result"
    }
   ],
   "source": [
    "ds_autof = load_dataset(\"AI-MO/AutoformalizationV2B0\", revision = \"V2B5\", split=\"train\")\n",
    "ds_autof"
   ]
  },
  {
   "cell_type": "markdown",
   "metadata": {},
   "source": [
    "# Update the annotation dataset"
   ]
  },
  {
   "cell_type": "code",
   "execution_count": 46,
   "metadata": {},
   "outputs": [
    {
     "data": {
      "text/plain": [
       "Dataset({\n",
       "    features: ['uuid', 'id', 'problem', 'informal_solution', 'lean4_solution', 'created_at', 'tags', 'source', 'natural_language', 'lean_code', 'theorem_names', 'has_header', 'is_valid_no_sorry', 'is_valid_with_sorry', 'text'],\n",
       "    num_rows: 1793\n",
       "})"
      ]
     },
     "execution_count": 46,
     "metadata": {},
     "output_type": "execute_result"
    }
   ],
   "source": [
    "# download the most up to date numina-math-lean4 dataset\n",
    "\n",
    "ds_numina = load_dataset(\"AI-MO/numina-math-lean4\", split=\"train\")\n",
    "ds_numina"
   ]
  },
  {
   "cell_type": "code",
   "execution_count": 47,
   "metadata": {},
   "outputs": [
    {
     "data": {
      "text/plain": [
       "Dataset({\n",
       "    features: ['uuid', 'id', 'problem', 'informal_solution', 'lean4_solution', 'created_at', 'tags', 'source', 'natural_language', 'lean_code', 'theorem_names', 'has_header', 'is_valid_no_sorry', 'is_valid_with_sorry', 'text'],\n",
       "    num_rows: 1693\n",
       "})"
      ]
     },
     "execution_count": 47,
     "metadata": {},
     "output_type": "execute_result"
    }
   ],
   "source": [
    "# filter for examples \"is_valid_with_sorry\" == True\n",
    "\n",
    "ds_numina = ds_numina.filter(lambda x: x[\"is_valid_with_sorry\"] == True)\n",
    "ds_numina"
   ]
  },
  {
   "cell_type": "code",
   "execution_count": 48,
   "metadata": {},
   "outputs": [
    {
     "data": {
      "text/plain": [
       "Dataset({\n",
       "    features: ['uuid', 'id', 'problem', 'informal_solution', 'lean4_solution', 'created_at', 'tags', 'source', 'natural_language', 'lean_code', 'theorem_names', 'has_header', 'is_valid_no_sorry', 'is_valid_with_sorry', 'text'],\n",
       "    num_rows: 1399\n",
       "})"
      ]
     },
     "execution_count": 48,
     "metadata": {},
     "output_type": "execute_result"
    }
   ],
   "source": [
    "# filter for examples with only 1 theorem \n",
    "ds_numina = ds_numina.filter(lambda x: len(x[\"theorem_names\"]) == 1)\n",
    "ds_numina"
   ]
  },
  {
   "cell_type": "code",
   "execution_count": 49,
   "metadata": {},
   "outputs": [
    {
     "data": {
      "application/vnd.jupyter.widget-view+json": {
       "model_id": "fbed4d6e95464d8487fccb62d13065a9",
       "version_major": 2,
       "version_minor": 0
      },
      "text/plain": [
       "Map (num_proc=4):   0%|          | 0/1399 [00:00<?, ? examples/s]"
      ]
     },
     "metadata": {},
     "output_type": "display_data"
    }
   ],
   "source": [
    "ds_numina = ds_numina.select_columns(['natural_language', 'lean_code', 'theorem_names', 'has_header', 'source'])\n",
    "ds_numina = ds_numina.add_column('id', [None] * len(ds_numina))\n",
    "\n",
    "def change_source(example):\n",
    "    example[\"source\"] = \"numina:\" + example[\"source\"]\n",
    "    return example\n",
    "\n",
    "ds_numina = ds_numina.map(change_source, num_proc=4)"
   ]
  },
  {
   "cell_type": "code",
   "execution_count": 50,
   "metadata": {},
   "outputs": [
    {
     "data": {
      "text/plain": [
       "Dataset({\n",
       "    features: ['natural_language', 'lean_code', 'theorem_names', 'has_header', 'source', 'id'],\n",
       "    num_rows: 1399\n",
       "})"
      ]
     },
     "execution_count": 50,
     "metadata": {},
     "output_type": "execute_result"
    }
   ],
   "source": [
    "ds_numina"
   ]
  },
  {
   "cell_type": "code",
   "execution_count": 51,
   "metadata": {},
   "outputs": [
    {
     "data": {
      "text/plain": [
       "Dataset({\n",
       "    features: ['natural_language', 'lean_code', 'theorem_names', 'has_header', 'source', 'id'],\n",
       "    num_rows: 45138\n",
       "})"
      ]
     },
     "execution_count": 51,
     "metadata": {},
     "output_type": "execute_result"
    }
   ],
   "source": [
    "ds_autof = ds_autof.filter(lambda x: x[\"source\"] != \"numina\")\n",
    "ds_autof_new = concatenate_datasets([ds_autof, ds_numina])\n",
    "ds_autof_new"
   ]
  },
  {
   "cell_type": "markdown",
   "metadata": {},
   "source": [
    "# Update the PutnamBench data points"
   ]
  },
  {
   "cell_type": "code",
   "execution_count": 52,
   "metadata": {},
   "outputs": [
    {
     "data": {
      "application/vnd.jupyter.widget-view+json": {
       "model_id": "2052fd332000445e8c18b9ddab965fc0",
       "version_major": 2,
       "version_minor": 0
      },
      "text/plain": [
       "Filter:   0%|          | 0/45138 [00:00<?, ? examples/s]"
      ]
     },
     "metadata": {},
     "output_type": "display_data"
    },
    {
     "data": {
      "text/plain": [
       "Dataset({\n",
       "    features: ['natural_language', 'lean_code', 'theorem_names', 'has_header', 'source', 'id'],\n",
       "    num_rows: 640\n",
       "})"
      ]
     },
     "execution_count": 52,
     "metadata": {},
     "output_type": "execute_result"
    }
   ],
   "source": [
    "ds_putnam = ds_autof_new.filter(lambda x: x[\"source\"] == \"Putnam\")\n",
    "ds_putnam"
   ]
  },
  {
   "cell_type": "code",
   "execution_count": 53,
   "metadata": {},
   "outputs": [
    {
     "data": {
      "text/plain": [
       "Counter({1: 640})"
      ]
     },
     "execution_count": 53,
     "metadata": {},
     "output_type": "execute_result"
    }
   ],
   "source": [
    "ds_putnam_theorem_names = [len(x[\"theorem_names\"]) for x in ds_putnam]\n",
    "Counter(ds_putnam_theorem_names)"
   ]
  },
  {
   "cell_type": "code",
   "execution_count": 29,
   "metadata": {},
   "outputs": [
    {
     "name": "stdout",
     "output_type": "stream",
     "text": [
      "Cloning into 'Putnam'...\n",
      "remote: Enumerating objects: 648, done.\u001b[K\n",
      "remote: Counting objects: 100% (648/648), done.\u001b[K\n",
      "remote: Compressing objects: 100% (646/646), done.\u001b[K\n",
      "remote: Total 648 (delta 0), reused 648 (delta 0), pack-reused 0 (from 0)\u001b[K\n",
      "Receiving objects: 100% (648/648), 179.69 KiB | 1.76 MiB/s, done.\n"
     ]
    }
   ],
   "source": [
    "!git clone https://github.com/project-numina/Putnam.git"
   ]
  },
  {
   "cell_type": "code",
   "execution_count": 54,
   "metadata": {},
   "outputs": [
    {
     "data": {
      "text/plain": [
       "640"
      ]
     },
     "execution_count": 54,
     "metadata": {},
     "output_type": "execute_result"
    }
   ],
   "source": [
    "# list all paths in Putnam/Putnam\n",
    "from os import listdir\n",
    "from os.path import isfile, join\n",
    "\n",
    "path = \"Putnam/Putnam\"\n",
    "putnam_files = [path + \"/\" + f for f in listdir(path) if isfile(join(path, f))]\n",
    "len(putnam_files)\n"
   ]
  },
  {
   "cell_type": "code",
   "execution_count": 55,
   "metadata": {},
   "outputs": [
    {
     "data": {
      "application/vnd.jupyter.widget-view+json": {
       "model_id": "860738ea538f4eea9af5f6121c07b1bd",
       "version_major": 2,
       "version_minor": 0
      },
      "text/plain": [
       "Map (num_proc=4):   0%|          | 0/640 [00:00<?, ? examples/s]"
      ]
     },
     "metadata": {},
     "output_type": "display_data"
    },
    {
     "data": {
      "text/plain": [
       "Dataset({\n",
       "    features: ['natural_language', 'lean_code', 'theorem_names', 'has_header', 'source', 'id'],\n",
       "    num_rows: 640\n",
       "})"
      ]
     },
     "execution_count": 55,
     "metadata": {},
     "output_type": "execute_result"
    }
   ],
   "source": [
    "def map_putnam(example):\n",
    "\n",
    "    theorem_name = example[\"theorem_names\"][0]\n",
    "    found = False\n",
    "    for file in putnam_files:\n",
    "        if theorem_name in file:\n",
    "            found = True\n",
    "            # read the file\n",
    "            with open(file, 'r') as f:\n",
    "                example[\"lean_code\"] = f.read()\n",
    "            break\n",
    "    \n",
    "    if not found:\n",
    "        raise ValueError(f\"Could not find file for theorem {theorem_name}\")\n",
    "    \n",
    "    return example\n",
    "\n",
    "ds_putnam = ds_putnam.map(map_putnam, num_proc=4)\n",
    "ds_putnam"
   ]
  },
  {
   "cell_type": "code",
   "execution_count": 56,
   "metadata": {},
   "outputs": [
    {
     "name": "stdout",
     "output_type": "stream",
     "text": [
      "import Mathlib\n",
      "open BigOperators\n",
      "\n",
      "-- 6 * Real.pi ^ 2\n",
      "theorem putnam_2006_a1\n",
      ": ((MeasureTheory.volume {(x, y, z) : ℝ × ℝ × ℝ | (x ^ 2 + y ^ 2 + z ^ 2 + 8) ^ 2 ≤ 36 * (x ^ 2 + y ^ 2)}).toReal = ((6 * Real.pi ^ 2) : ℝ )) :=\n",
      "sorry\n",
      "\n"
     ]
    }
   ],
   "source": [
    "print(ds_putnam[0]['lean_code'])"
   ]
  },
  {
   "cell_type": "code",
   "execution_count": 57,
   "metadata": {},
   "outputs": [
    {
     "data": {
      "application/vnd.jupyter.widget-view+json": {
       "model_id": "77977da7e08643308e9e2d494fbc2e87",
       "version_major": 2,
       "version_minor": 0
      },
      "text/plain": [
       "Filter:   0%|          | 0/45138 [00:00<?, ? examples/s]"
      ]
     },
     "metadata": {},
     "output_type": "display_data"
    },
    {
     "data": {
      "text/plain": [
       "Dataset({\n",
       "    features: ['natural_language', 'lean_code', 'theorem_names', 'has_header', 'source', 'id'],\n",
       "    num_rows: 45138\n",
       "})"
      ]
     },
     "execution_count": 57,
     "metadata": {},
     "output_type": "execute_result"
    }
   ],
   "source": [
    "ds_autof_new = ds_autof_new.filter(lambda x: x[\"source\"] != \"Putnam\")\n",
    "ds_autof_new = concatenate_datasets([ds_autof_new, ds_putnam])\n",
    "ds_autof_new"
   ]
  },
  {
   "cell_type": "markdown",
   "metadata": {},
   "source": [
    "# Find examples with 2 sorries"
   ]
  },
  {
   "cell_type": "code",
   "execution_count": 58,
   "metadata": {},
   "outputs": [
    {
     "data": {
      "application/vnd.jupyter.widget-view+json": {
       "model_id": "b5a9ed000d674562b4bd87a8241b7aef",
       "version_major": 2,
       "version_minor": 0
      },
      "text/plain": [
       "Filter:   0%|          | 0/45138 [00:00<?, ? examples/s]"
      ]
     },
     "metadata": {},
     "output_type": "display_data"
    },
    {
     "data": {
      "text/plain": [
       "Dataset({\n",
       "    features: ['natural_language', 'lean_code', 'theorem_names', 'has_header', 'source', 'id'],\n",
       "    num_rows: 152\n",
       "})"
      ]
     },
     "execution_count": 58,
     "metadata": {},
     "output_type": "execute_result"
    }
   ],
   "source": [
    "# filter for examples with at least 2 'sorry' in lean_code\n",
    "\n",
    "ds_with_2sorry = ds_autof_new.filter(lambda x: x[\"lean_code\"].count(\"sorry\") >= 2)\n",
    "ds_with_2sorry"
   ]
  },
  {
   "cell_type": "code",
   "execution_count": 59,
   "metadata": {},
   "outputs": [
    {
     "data": {
      "text/plain": [
       "Counter({'compfile': 100,\n",
       "         'bootstrap_2': 13,\n",
       "         'bootstrap_4': 10,\n",
       "         'bootstrap_5': 9,\n",
       "         'bootstrap_0': 7,\n",
       "         'bootstrap_6': 6,\n",
       "         'bootstrap_3': 3,\n",
       "         'bootstrap_7': 3,\n",
       "         'bootstrap_1': 1})"
      ]
     },
     "execution_count": 59,
     "metadata": {},
     "output_type": "execute_result"
    }
   ],
   "source": [
    "Counter(ds_with_2sorry[\"source\"])"
   ]
  },
  {
   "cell_type": "code",
   "execution_count": 61,
   "metadata": {},
   "outputs": [
    {
     "data": {
      "application/vnd.jupyter.widget-view+json": {
       "model_id": "a8df5bf4704c4a6297635a85e9738ed4",
       "version_major": 2,
       "version_minor": 0
      },
      "text/plain": [
       "Filter (num_proc=4):   0%|          | 0/45138 [00:00<?, ? examples/s]"
      ]
     },
     "metadata": {},
     "output_type": "display_data"
    },
    {
     "data": {
      "text/plain": [
       "Dataset({\n",
       "    features: ['natural_language', 'lean_code', 'theorem_names', 'has_header', 'source', 'id'],\n",
       "    num_rows: 44986\n",
       "})"
      ]
     },
     "execution_count": 61,
     "metadata": {},
     "output_type": "execute_result"
    }
   ],
   "source": [
    "# remove these examples\n",
    "\n",
    "ds_autof_new = ds_autof_new.filter(lambda x: x[\"lean_code\"].count(\"sorry\") < 2, num_proc=4)\n",
    "ds_autof_new"
   ]
  },
  {
   "cell_type": "code",
   "execution_count": 62,
   "metadata": {},
   "outputs": [
    {
     "data": {
      "text/plain": [
       "Counter({'bootstrap_4': 8499,\n",
       "         'bootstrap_7': 8090,\n",
       "         'bootstrap_5': 6429,\n",
       "         'bootstrap_2': 5009,\n",
       "         'bootstrap_3': 4835,\n",
       "         'bootstrap_6': 4331,\n",
       "         'bootstrap_1': 2709,\n",
       "         'bootstrap_0': 2087,\n",
       "         'Putnam': 640,\n",
       "         'minif2f': 485,\n",
       "         'proofnet': 371,\n",
       "         'numina:MATH-train': 346,\n",
       "         'numina:cnk12': 340,\n",
       "         'numina:MATH-test': 264,\n",
       "         'numina:number-theory-books': 177,\n",
       "         'numina:aops-forum': 106,\n",
       "         'compfile': 102,\n",
       "         'numina:aops-wiki': 85,\n",
       "         'numina:unknown': 51,\n",
       "         'numina:olympiads-ref': 27,\n",
       "         'numina:aops': 3})"
      ]
     },
     "execution_count": 62,
     "metadata": {},
     "output_type": "execute_result"
    }
   ],
   "source": [
    "Counter(ds_autof_new[\"source\"])"
   ]
  },
  {
   "cell_type": "code",
   "execution_count": 65,
   "metadata": {},
   "outputs": [
    {
     "data": {
      "application/vnd.jupyter.widget-view+json": {
       "model_id": "5fe2e9eb750741f28b779942b525ac03",
       "version_major": 2,
       "version_minor": 0
      },
      "text/plain": [
       "Uploading the dataset shards:   0%|          | 0/1 [00:00<?, ?it/s]"
      ]
     },
     "metadata": {},
     "output_type": "display_data"
    },
    {
     "data": {
      "application/vnd.jupyter.widget-view+json": {
       "model_id": "fc20e5ac77024dc6ba8fba26fdcb0038",
       "version_major": 2,
       "version_minor": 0
      },
      "text/plain": [
       "Creating parquet from Arrow format:   0%|          | 0/45 [00:00<?, ?ba/s]"
      ]
     },
     "metadata": {},
     "output_type": "display_data"
    },
    {
     "data": {
      "text/plain": [
       "CommitInfo(commit_url='https://huggingface.co/datasets/AI-MO/AutoformalizationV3B0/commit/d60e7968c60964b2b065de94a2ad5daa76267e0b', commit_message='Upload dataset', commit_description='', oid='d60e7968c60964b2b065de94a2ad5daa76267e0b', pr_url=None, repo_url=RepoUrl('https://huggingface.co/datasets/AI-MO/AutoformalizationV3B0', endpoint='https://huggingface.co', repo_type='dataset', repo_id='AI-MO/AutoformalizationV3B0'), pr_revision=None, pr_num=None)"
      ]
     },
     "execution_count": 65,
     "metadata": {},
     "output_type": "execute_result"
    }
   ],
   "source": [
    "ds_autof_new.push_to_hub(\"AI-MO/AutoformalizationV3B0\", private = True)\n"
   ]
  },
  {
   "cell_type": "code",
   "execution_count": 66,
   "metadata": {},
   "outputs": [
    {
     "data": {
      "application/vnd.jupyter.widget-view+json": {
       "model_id": "9e80da9b68d745bb832f9d06f654e272",
       "version_major": 2,
       "version_minor": 0
      },
      "text/plain": [
       "Uploading the dataset shards:   0%|          | 0/1 [00:00<?, ?it/s]"
      ]
     },
     "metadata": {},
     "output_type": "display_data"
    },
    {
     "data": {
      "application/vnd.jupyter.widget-view+json": {
       "model_id": "1be89a4b3fad4a46933d46dbb62dcb0d",
       "version_major": 2,
       "version_minor": 0
      },
      "text/plain": [
       "Creating parquet from Arrow format:   0%|          | 0/45 [00:00<?, ?ba/s]"
      ]
     },
     "metadata": {},
     "output_type": "display_data"
    },
    {
     "data": {
      "application/vnd.jupyter.widget-view+json": {
       "model_id": "d2dfad1729e74bcf8939a1403c37de86",
       "version_major": 2,
       "version_minor": 0
      },
      "text/plain": [
       "README.md:   0%|          | 0.00/495 [00:00<?, ?B/s]"
      ]
     },
     "metadata": {},
     "output_type": "display_data"
    },
    {
     "name": "stderr",
     "output_type": "stream",
     "text": [
      "No files have been modified since last commit. Skipping to prevent empty commit.\n"
     ]
    },
    {
     "data": {
      "text/plain": [
       "CommitInfo(commit_url='https://huggingface.co/datasets/AI-MO/AutoformalizationV3B0/commit/d60e7968c60964b2b065de94a2ad5daa76267e0b', commit_message='Upload dataset', commit_description='', oid='d60e7968c60964b2b065de94a2ad5daa76267e0b', pr_url=None, repo_url=RepoUrl('https://huggingface.co/datasets/AI-MO/AutoformalizationV3B0', endpoint='https://huggingface.co', repo_type='dataset', repo_id='AI-MO/AutoformalizationV3B0'), pr_revision=None, pr_num=None)"
      ]
     },
     "execution_count": 66,
     "metadata": {},
     "output_type": "execute_result"
    }
   ],
   "source": [
    "ds_autof_new.push_to_hub(\"AI-MO/AutoformalizationV3B0\", revision = \"V3B0\", private = True)"
   ]
  },
  {
   "cell_type": "code",
   "execution_count": null,
   "metadata": {},
   "outputs": [],
   "source": []
  }
 ],
 "metadata": {
  "kernelspec": {
   "display_name": "mert",
   "language": "python",
   "name": "python3"
  },
  "language_info": {
   "codemirror_mode": {
    "name": "ipython",
    "version": 3
   },
   "file_extension": ".py",
   "mimetype": "text/x-python",
   "name": "python",
   "nbconvert_exporter": "python",
   "pygments_lexer": "ipython3",
   "version": "3.12.7"
  }
 },
 "nbformat": 4,
 "nbformat_minor": 2
}
