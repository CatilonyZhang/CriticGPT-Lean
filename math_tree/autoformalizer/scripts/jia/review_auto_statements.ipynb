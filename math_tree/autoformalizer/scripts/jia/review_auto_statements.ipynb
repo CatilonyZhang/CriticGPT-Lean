{
 "cells": [
  {
   "cell_type": "code",
   "execution_count": 120,
   "metadata": {},
   "outputs": [],
   "source": [
    "from datasets import load_dataset"
   ]
  },
  {
   "cell_type": "code",
   "execution_count": 133,
   "metadata": {},
   "outputs": [
    {
     "data": {
      "application/vnd.jupyter.widget-view+json": {
       "model_id": "84adaad6af6c4d619e5528bb08d3e2bf",
       "version_major": 2,
       "version_minor": 0
      },
      "text/plain": [
       "Generating train split:   0%|          | 0/24871 [00:00<?, ? examples/s]"
      ]
     },
     "metadata": {},
     "output_type": "display_data"
    }
   ],
   "source": [
    "ds = load_dataset(\"AI-MO/auto-statements-v1\", split=\"train\")"
   ]
  },
  {
   "cell_type": "code",
   "execution_count": 134,
   "metadata": {},
   "outputs": [],
   "source": [
    "df = ds.select_columns([\"uuid\", \"source\", \"n_proofs\", \"n_correct_proofs\"]).to_pandas()"
   ]
  },
  {
   "cell_type": "code",
   "execution_count": 135,
   "metadata": {},
   "outputs": [
    {
     "data": {
      "text/html": [
       "<div>\n",
       "<style scoped>\n",
       "    .dataframe tbody tr th:only-of-type {\n",
       "        vertical-align: middle;\n",
       "    }\n",
       "\n",
       "    .dataframe tbody tr th {\n",
       "        vertical-align: top;\n",
       "    }\n",
       "\n",
       "    .dataframe thead th {\n",
       "        text-align: right;\n",
       "    }\n",
       "</style>\n",
       "<table border=\"1\" class=\"dataframe\">\n",
       "  <thead>\n",
       "    <tr style=\"text-align: right;\">\n",
       "      <th></th>\n",
       "      <th>uuid</th>\n",
       "      <th>source</th>\n",
       "      <th>n_proofs</th>\n",
       "      <th>n_correct_proofs</th>\n",
       "    </tr>\n",
       "  </thead>\n",
       "  <tbody>\n",
       "    <tr>\n",
       "      <th>0</th>\n",
       "      <td>359724f8-2666-5ef7-a9fa-2491e8038388</td>\n",
       "      <td>math-train</td>\n",
       "      <td>64</td>\n",
       "      <td>0</td>\n",
       "    </tr>\n",
       "    <tr>\n",
       "      <th>1</th>\n",
       "      <td>6e7855e2-5d2f-56e8-be5e-36806cdc4163</td>\n",
       "      <td>math-train</td>\n",
       "      <td>64</td>\n",
       "      <td>0</td>\n",
       "    </tr>\n",
       "    <tr>\n",
       "      <th>2</th>\n",
       "      <td>0c279415-06c0-5db9-b1a6-69e698ecd7cc</td>\n",
       "      <td>math-train</td>\n",
       "      <td>64</td>\n",
       "      <td>0</td>\n",
       "    </tr>\n",
       "    <tr>\n",
       "      <th>3</th>\n",
       "      <td>6545e176-9dec-5ce0-82b5-480bf97787af</td>\n",
       "      <td>math-train</td>\n",
       "      <td>64</td>\n",
       "      <td>61</td>\n",
       "    </tr>\n",
       "    <tr>\n",
       "      <th>4</th>\n",
       "      <td>17cbbf13-6195-58b3-a84b-142525e27f7a</td>\n",
       "      <td>math-train</td>\n",
       "      <td>64</td>\n",
       "      <td>61</td>\n",
       "    </tr>\n",
       "    <tr>\n",
       "      <th>...</th>\n",
       "      <td>...</td>\n",
       "      <td>...</td>\n",
       "      <td>...</td>\n",
       "      <td>...</td>\n",
       "    </tr>\n",
       "    <tr>\n",
       "      <th>24866</th>\n",
       "      <td>b833ddc7-99a0-55eb-bce0-adfa4b7d780f</td>\n",
       "      <td>aops</td>\n",
       "      <td>64</td>\n",
       "      <td>0</td>\n",
       "    </tr>\n",
       "    <tr>\n",
       "      <th>24867</th>\n",
       "      <td>96295c42-4440-590d-a358-c4fe45f5f73c</td>\n",
       "      <td>aops</td>\n",
       "      <td>64</td>\n",
       "      <td>11</td>\n",
       "    </tr>\n",
       "    <tr>\n",
       "      <th>24868</th>\n",
       "      <td>e9adc05e-5f59-583d-bebf-9237ab1e2bb8</td>\n",
       "      <td>aops</td>\n",
       "      <td>64</td>\n",
       "      <td>0</td>\n",
       "    </tr>\n",
       "    <tr>\n",
       "      <th>24869</th>\n",
       "      <td>8a4437fb-6cb5-543c-b6dc-1442d7f91fd9</td>\n",
       "      <td>aops</td>\n",
       "      <td>64</td>\n",
       "      <td>10</td>\n",
       "    </tr>\n",
       "    <tr>\n",
       "      <th>24870</th>\n",
       "      <td>bb7311c3-7561-5753-84b4-3929b457c719</td>\n",
       "      <td>aops</td>\n",
       "      <td>64</td>\n",
       "      <td>0</td>\n",
       "    </tr>\n",
       "  </tbody>\n",
       "</table>\n",
       "<p>24871 rows × 4 columns</p>\n",
       "</div>"
      ],
      "text/plain": [
       "                                       uuid      source  n_proofs  \\\n",
       "0      359724f8-2666-5ef7-a9fa-2491e8038388  math-train        64   \n",
       "1      6e7855e2-5d2f-56e8-be5e-36806cdc4163  math-train        64   \n",
       "2      0c279415-06c0-5db9-b1a6-69e698ecd7cc  math-train        64   \n",
       "3      6545e176-9dec-5ce0-82b5-480bf97787af  math-train        64   \n",
       "4      17cbbf13-6195-58b3-a84b-142525e27f7a  math-train        64   \n",
       "...                                     ...         ...       ...   \n",
       "24866  b833ddc7-99a0-55eb-bce0-adfa4b7d780f        aops        64   \n",
       "24867  96295c42-4440-590d-a358-c4fe45f5f73c        aops        64   \n",
       "24868  e9adc05e-5f59-583d-bebf-9237ab1e2bb8        aops        64   \n",
       "24869  8a4437fb-6cb5-543c-b6dc-1442d7f91fd9        aops        64   \n",
       "24870  bb7311c3-7561-5753-84b4-3929b457c719        aops        64   \n",
       "\n",
       "       n_correct_proofs  \n",
       "0                     0  \n",
       "1                     0  \n",
       "2                     0  \n",
       "3                    61  \n",
       "4                    61  \n",
       "...                 ...  \n",
       "24866                 0  \n",
       "24867                11  \n",
       "24868                 0  \n",
       "24869                10  \n",
       "24870                 0  \n",
       "\n",
       "[24871 rows x 4 columns]"
      ]
     },
     "execution_count": 135,
     "metadata": {},
     "output_type": "execute_result"
    }
   ],
   "source": [
    "df"
   ]
  },
  {
   "cell_type": "code",
   "execution_count": 136,
   "metadata": {},
   "outputs": [
    {
     "name": "stdout",
     "output_type": "stream",
     "text": [
      "Total number of proofs: 1593664\n",
      "Correct proof rate: 0.13\n"
     ]
    }
   ],
   "source": [
    "# print the correct rate\n",
    "correct_proof_rate = df[\"n_correct_proofs\"].sum() / df[\"n_proofs\"].sum()\n",
    "print(f\"Total number of proofs: {df['n_proofs'].sum()}\")\n",
    "print(f\"Correct proof rate: {correct_proof_rate:.2f}\")"
   ]
  },
  {
   "cell_type": "code",
   "execution_count": 137,
   "metadata": {},
   "outputs": [
    {
     "name": "stdout",
     "output_type": "stream",
     "text": [
      "Number of uuid with at least one correct proof: 6517\n",
      "Total number of uuid: 24856\n",
      "Percentage of uuid with at least one correct proof: 0.26\n"
     ]
    }
   ],
   "source": [
    "# print the number of uuid with at least one correct proof\n",
    "n_uuid_with_proof = (df[\"n_correct_proofs\"] > 0).sum()\n",
    "print(f\"Number of uuid with at least one correct proof: {n_uuid_with_proof}\")\n",
    "print(f\"Total number of uuid: {len(set(df['uuid']))}\")\n",
    "\n",
    "# percentage of uuid with at least one correct proof\n",
    "percentage_uuid_with_proof = n_uuid_with_proof / len(set(df[\"uuid\"]))\n",
    "print(f\"Percentage of uuid with at least one correct proof: {percentage_uuid_with_proof:.2f}\")\n"
   ]
  },
  {
   "cell_type": "code",
   "execution_count": null,
   "metadata": {},
   "outputs": [],
   "source": []
  }
 ],
 "metadata": {
  "kernelspec": {
   "display_name": "Python 3 (ipykernel)",
   "language": "python",
   "name": "python3"
  }
 },
 "nbformat": 4,
 "nbformat_minor": 2
}
