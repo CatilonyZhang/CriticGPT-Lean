{
 "cells": [
  {
   "cell_type": "code",
   "execution_count": 151,
   "metadata": {},
   "outputs": [],
   "source": [
    "import pathlib\n",
    "from collections import defaultdict\n",
    "import json\n",
    "from autoformalizer.eval_utils import lean_feedback\n",
    "import pandas as pd\n",
    "from tqdm import tqdm\n"
   ]
  },
  {
   "cell_type": "code",
   "execution_count": 170,
   "metadata": {},
   "outputs": [],
   "source": [
    "cache_dir = pathlib.Path(\"/home/jia/auto_proofs_v2\")\n",
    "\n",
    "# list all jsonl\n",
    "json_files = list(cache_dir.glob(\"*/*.json\"))"
   ]
  },
  {
   "cell_type": "code",
   "execution_count": 171,
   "metadata": {},
   "outputs": [
    {
     "data": {
      "text/plain": [
       "19963715"
      ]
     },
     "execution_count": 171,
     "metadata": {},
     "output_type": "execute_result"
    }
   ],
   "source": [
    "len(json_files)"
   ]
  },
  {
   "cell_type": "code",
   "execution_count": null,
   "metadata": {},
   "outputs": [],
   "source": [
    "df = []\n",
    "errors = []\n",
    "for filepath in tqdm(json_files):\n",
    "    with open(filepath, \"r\") as f:\n",
    "        try:\n",
    "            response = json.load(f)\n",
    "        except json.JSONDecodeError:\n",
    "            continue\n",
    "    uuid = filepath.parent.name\n",
    "    error_message = response.get(\"error\", None)\n",
    "    if error_message:\n",
    "        errors.append(error_message)\n",
    "        continue\n",
    "    json_response = response.get(\"response\", None)\n",
    "\n",
    "    is_valid_no_sorry = (not bool(error_message)) and (\n",
    "        not lean_feedback.has_error(json_response, accept_sorry=False)\n",
    "    )\n",
    "    connection_error = bool(error_message) and (\n",
    "        \"Lean process timed out\" not in error_message\n",
    "    )\n",
    "    df.append(\n",
    "        {\n",
    "            \"uuid\": uuid,\n",
    "            \"is_valid_no_sorry\": is_valid_no_sorry,\n",
    "            \"name\": filepath.stem,\n",
    "            \"has_connection_error\": bool(error_message),\n",
    "        }\n",
    "    )"
   ]
  },
  {
   "cell_type": "code",
   "execution_count": null,
   "metadata": {},
   "outputs": [
    {
     "name": "stderr",
     "output_type": "stream",
     "text": [
      "100%|█████████████████████████████████████████████████████████████████████████████████████████████████████████████████████████████████████| 19963715/19963715 [08:47<00:00, 37880.30it/s]\n"
     ]
    },
    {
     "name": "stdout",
     "output_type": "stream",
     "text": [
      "                                          uuid  is_valid_no_sorry  \\\n",
      "0         f3babb50-dfa3-560b-99ef-5652fca0ee4b              False   \n",
      "1         f3babb50-dfa3-560b-99ef-5652fca0ee4b              False   \n",
      "2         f3babb50-dfa3-560b-99ef-5652fca0ee4b              False   \n",
      "3         f3babb50-dfa3-560b-99ef-5652fca0ee4b              False   \n",
      "4         f3babb50-dfa3-560b-99ef-5652fca0ee4b              False   \n",
      "...                                        ...                ...   \n",
      "18700537  6e0e1956-b477-57a1-bb3a-912d4f0d48ce               True   \n",
      "18700538  6e0e1956-b477-57a1-bb3a-912d4f0d48ce               True   \n",
      "18700539  6e0e1956-b477-57a1-bb3a-912d4f0d48ce               True   \n",
      "18700540  6e0e1956-b477-57a1-bb3a-912d4f0d48ce              False   \n",
      "18700541  6e0e1956-b477-57a1-bb3a-912d4f0d48ce               True   \n",
      "\n",
      "                                                name  has_connection_error  \n",
      "0         f3babb50-dfa3-560b-99ef-5652fca0ee4b_4_218                 False  \n",
      "1         f3babb50-dfa3-560b-99ef-5652fca0ee4b_0_877                 False  \n",
      "2         f3babb50-dfa3-560b-99ef-5652fca0ee4b_0_736                 False  \n",
      "3          f3babb50-dfa3-560b-99ef-5652fca0ee4b_0_94                 False  \n",
      "4         f3babb50-dfa3-560b-99ef-5652fca0ee4b_4_759                 False  \n",
      "...                                              ...                   ...  \n",
      "18700537  6e0e1956-b477-57a1-bb3a-912d4f0d48ce_1_896                 False  \n",
      "18700538  6e0e1956-b477-57a1-bb3a-912d4f0d48ce_1_943                 False  \n",
      "18700539  6e0e1956-b477-57a1-bb3a-912d4f0d48ce_1_867                 False  \n",
      "18700540  6e0e1956-b477-57a1-bb3a-912d4f0d48ce_1_735                 False  \n",
      "18700541  6e0e1956-b477-57a1-bb3a-912d4f0d48ce_1_139                 False  \n",
      "\n",
      "[18700542 rows x 4 columns]\n",
      "valid rate: 0.09322617494188136\n",
      "connection error rate: 0.0\n",
      "Number of uuids: 6469\n",
      "Number of uuids with at least one valid proof: 2076\n"
     ]
    }
   ],
   "source": [
    "\n",
    "df = pd.DataFrame(df)\n",
    "print(df)\n",
    "\n",
    "# calculate valid rate\n",
    "valid_rate = df[\"is_valid_no_sorry\"].sum() / len(df)\n",
    "print(f\"valid rate: {valid_rate}\")\n",
    "\n",
    "# connection error rate\n",
    "connection_error_rate = df[\"has_connection_error\"].sum() / len(df)\n",
    "print(f\"connection error rate: {connection_error_rate}\")\n",
    "\n",
    "# calculate valid rate for each uuid using groupby\n",
    "uuid_group = df.groupby(\"uuid\")[\"is_valid_no_sorry\"].sum()\n",
    "\n",
    "# find all uuids with at least one valid proof\n",
    "valid_uuids = uuid_group[uuid_group > 0].index\n",
    "print(f\"Number of uuids: {len(uuid_group)}\")\n",
    "print(f\"Number of uuids with at least one valid proof: {len(valid_uuids)}\")\n"
   ]
  },
  {
   "cell_type": "code",
   "execution_count": 174,
   "metadata": {},
   "outputs": [],
   "source": [
    "know_errors = {\"Connection Error\", \"Lean process timed out\"}\n",
    "for error in errors:\n",
    "    if error not in know_errors:\n",
    "        if not error.startswith(\"JSONDecodeError with text:\"):\n",
    "            print(error)\n",
    "            break"
   ]
  },
  {
   "cell_type": "code",
   "execution_count": 175,
   "metadata": {},
   "outputs": [
    {
     "data": {
      "text/plain": [
       "Counter({'Connection Error': 1016880,\n",
       "         'JSONDecodeError with': 185172,\n",
       "         'Lean process timed o': 61085})"
      ]
     },
     "execution_count": 175,
     "metadata": {},
     "output_type": "execute_result"
    }
   ],
   "source": [
    "from collections import Counter\n",
    "Counter([error[:20] for error in errors])"
   ]
  },
  {
   "cell_type": "code",
   "execution_count": 156,
   "metadata": {},
   "outputs": [
    {
     "data": {
      "text/plain": [
       "(18471895, 0.2894291429450685)"
      ]
     },
     "execution_count": 156,
     "metadata": {},
     "output_type": "execute_result"
    }
   ],
   "source": [
    "len(df), 1881 / 6499"
   ]
  },
  {
   "cell_type": "code",
   "execution_count": 206,
   "metadata": {},
   "outputs": [
    {
     "data": {
      "text/plain": [
       "773447"
      ]
     },
     "execution_count": 206,
     "metadata": {},
     "output_type": "execute_result"
    }
   ],
   "source": [
    "df_valid = df[df[\"is_valid_no_sorry\"]]\n",
    "len(df_valid)"
   ]
  },
  {
   "cell_type": "code",
   "execution_count": 207,
   "metadata": {},
   "outputs": [
    {
     "data": {
      "text/plain": [
       "uuid\n",
       "97af19ed-76f9-5788-b912-3771cd954dbc    1\n",
       "75eddfd5-d0d4-5472-a82e-41190047456f    1\n",
       "128bbf96-67d1-53e3-935c-7795728fa685    1\n",
       "8e65843e-7a52-5612-b18c-7411e7286803    1\n",
       "f05085fb-bd65-5232-baed-d0e94ae5f913    1\n",
       "d28a6f66-f070-55aa-97d9-6635c7adfd74    1\n",
       "5165c90c-324d-5723-b57b-72c097ece55e    1\n",
       "59d104ef-7a23-563b-8981-e461d9d47d24    1\n",
       "89e530ae-b353-50a2-b698-c09bb2685038    1\n",
       "3531f921-32cd-5be6-9bcf-f4fe5fcc4862    1\n",
       "05881b4c-5a10-5668-8076-001fda0ef3bc    1\n",
       "7a3a59ac-0ca6-5fc6-a7c6-cdf29d30a218    1\n",
       "4c1c84db-9018-5554-9c6b-67e5f40c98f3    1\n",
       "6db3fc84-2894-54b1-bb35-e708f5640e95    1\n",
       "2fbacd34-b454-5ff2-88ce-a05536fb211c    1\n",
       "a942379a-9b7a-5323-98f4-4bf0fcc340f5    1\n",
       "85ae472d-20ee-54b3-a30c-a7e2d18fe1ef    1\n",
       "54570ca9-188e-5ef6-b784-9cbca2393e41    1\n",
       "26b38fa9-579e-5a43-be21-ae11b8fa4b5e    1\n",
       "c07304e5-c0e5-5749-a19d-99bf055a234e    1\n",
       "Name: is_valid_no_sorry, dtype: int64"
      ]
     },
     "execution_count": 207,
     "metadata": {},
     "output_type": "execute_result"
    }
   ],
   "source": [
    "sorted_uuid_group = uuid_group.sort_values()\n",
    "\n",
    "# remove 0\n",
    "sorted_uuid_group = sorted_uuid_group[sorted_uuid_group > 0]\n",
    "sorted_uuid_group.iloc[20:40]"
   ]
  },
  {
   "cell_type": "code",
   "execution_count": 208,
   "metadata": {},
   "outputs": [
    {
     "data": {
      "application/vnd.jupyter.widget-view+json": {
       "model_id": "8d7b4df0a91845b69173ee828d32ca59",
       "version_major": 2,
       "version_minor": 0
      },
      "text/plain": [
       "Resolving data files:   0%|          | 0/88 [00:00<?, ?it/s]"
      ]
     },
     "metadata": {},
     "output_type": "display_data"
    },
    {
     "data": {
      "application/vnd.jupyter.widget-view+json": {
       "model_id": "0e17825715ac4d6289bfe904f54c2127",
       "version_major": 2,
       "version_minor": 0
      },
      "text/plain": [
       "Resolving data files:   0%|          | 0/88 [00:00<?, ?it/s]"
      ]
     },
     "metadata": {},
     "output_type": "display_data"
    },
    {
     "data": {
      "application/vnd.jupyter.widget-view+json": {
       "model_id": "56377c87f056471b9646f23f448566f0",
       "version_major": 2,
       "version_minor": 0
      },
      "text/plain": [
       "Loading dataset shards:   0%|          | 0/90 [00:00<?, ?it/s]"
      ]
     },
     "metadata": {},
     "output_type": "display_data"
    }
   ],
   "source": [
    "# load dataset\n",
    "from datasets import load_dataset\n",
    "ds = load_dataset(\"AI-MO/auto-proofs-v2-haiming\", split=\"train\", num_proc=10)"
   ]
  },
  {
   "cell_type": "code",
   "execution_count": 53,
   "metadata": {},
   "outputs": [],
   "source": [
    "proof_id_column = ds[\"proof_id\"]\n",
    "proof_id_to_index = {pid: i for i, pid in enumerate(proof_id_column)}"
   ]
  },
  {
   "cell_type": "code",
   "execution_count": 86,
   "metadata": {},
   "outputs": [
    {
     "data": {
      "text/plain": [
       "'3531f921-32cd-5be6-9bcf-f4fe5fcc4862'"
      ]
     },
     "execution_count": 86,
     "metadata": {},
     "output_type": "execute_result"
    }
   ],
   "source": [
    "sorted_uuid_group.index[10]"
   ]
  },
  {
   "cell_type": "code",
   "execution_count": 415,
   "metadata": {},
   "outputs": [
    {
     "name": "stdout",
     "output_type": "stream",
     "text": [
      "6144\n",
      "8e328f0c-ec6d-5cb2-b9b6-ee00f2aa4af5\n",
      "26\n"
     ]
    }
   ],
   "source": [
    "uuid = sorted_uuid_group.index[530]\n",
    "uuid_df = df[df[\"uuid\"] == uuid]\n",
    "print(len(uuid_df))\n",
    "print(uuid)\n",
    "# valid name\n",
    "valid_names = uuid_df[uuid_df[\"is_valid_no_sorry\"]][\"name\"]\n",
    "print(len(valid_names.to_list()))"
   ]
  },
  {
   "cell_type": "code",
   "execution_count": 416,
   "metadata": {},
   "outputs": [
    {
     "data": {
      "text/plain": [
       "53619712"
      ]
     },
     "execution_count": 416,
     "metadata": {},
     "output_type": "execute_result"
    }
   ],
   "source": [
    "len(proof_id_to_index)"
   ]
  },
  {
   "cell_type": "code",
   "execution_count": 417,
   "metadata": {},
   "outputs": [],
   "source": [
    "# proof_id = \"f05085fb-bd65-5232-baed-d0e94ae5f913_6_960\"\n",
    "proof_id = valid_names.to_list()[0]\n",
    "index = proof_id_to_index[proof_id]"
   ]
  },
  {
   "cell_type": "code",
   "execution_count": 418,
   "metadata": {},
   "outputs": [
    {
     "name": "stdout",
     "output_type": "stream",
     "text": [
      "import Mathlib\n",
      "\n",
      "open Real\n",
      "\n",
      "theorem algebra_1627 {f g : ℝ → ℝ}\n",
      "    (hf : ∀ x, x > 0 → f x = 2 * sqrt x + 12 / sqrt x)\n",
      "    (hg : ∀ x, g x = 2 * x ^ 2 - 2 * x - 3) :\n",
      "    f (g 3) = 10 := by \n",
      "  have h₀ : g 3 = 2 * 3 ^ 2 - 2 * 3 - 3 := by apply hg\n",
      "  have h₁ : g 3 = 9 := by linarith\n",
      "  have h₂ : f (g 3) = f 9 := by rw [h₁]\n",
      "  have h₃ : f 9 = 2 * sqrt 9 + 12 / sqrt 9 := by apply hf <;> linarith\n",
      "  have h₄ : sqrt 9 = 3 := by rw [sqrt_eq_iff_mul_self_eq] <;> norm_num\n",
      "  rw [h₄] at h₃\n",
      "  linarith\n",
      "\n"
     ]
    }
   ],
   "source": [
    "sample = ds[index]\n",
    "print(sample[\"formal_proof\"])"
   ]
  },
  {
   "cell_type": "code",
   "execution_count": null,
   "metadata": {},
   "outputs": [],
   "source": []
  },
  {
   "cell_type": "code",
   "execution_count": null,
   "metadata": {},
   "outputs": [],
   "source": []
  }
 ],
 "metadata": {
  "kernelspec": {
   "display_name": "Python 3 (ipykernel)",
   "language": "python",
   "name": "python3"
  },
  "language_info": {
   "codemirror_mode": {
    "name": "ipython",
    "version": 3
   },
   "file_extension": ".py",
   "mimetype": "text/x-python",
   "name": "python",
   "nbconvert_exporter": "python",
   "pygments_lexer": "ipython3",
   "version": "3.12.7"
  }
 },
 "nbformat": 4,
 "nbformat_minor": 2
}
