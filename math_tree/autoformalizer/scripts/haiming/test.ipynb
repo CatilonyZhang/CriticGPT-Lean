{
 "cells": [
  {
   "cell_type": "code",
   "execution_count": 53,
   "metadata": {},
   "outputs": [],
   "source": [
    "import datasets\n",
    "import uuid\n",
    "\n",
    "d = datasets.load_dataset(\"AI-MO/wholeproof-moon-santa-prover-v1-1M-241231\", split=\"train\", cache_dir=\"/mnt/moonfs/kimina-m2/.cache/ttmmpp\")\n",
    "samples = []\n",
    "\n",
    "\n",
    "d = d.select(range(10000))\n",
    "for sample in d:\n",
    "    sample[\"proof_id\"] = str(uuid.uuid4())\n",
    "    samples.append(sample)\n"
   ]
  },
  {
   "cell_type": "code",
   "execution_count": 54,
   "metadata": {},
   "outputs": [
    {
     "name": "stdout",
     "output_type": "stream",
     "text": [
      "10000\n"
     ]
    }
   ],
   "source": [
    "print(len(samples))\n",
    "for sample in d:\n",
    "    sample[\"ori_proof\"] = sample[\"proof\"]\n",
    "    sample[\"proof\"] = sample[\"proof_input\"][:-1] + \" sorry\\n\"\n"
   ]
  },
  {
   "cell_type": "code",
   "execution_count": 55,
   "metadata": {},
   "outputs": [
    {
     "name": "stderr",
     "output_type": "stream",
     "text": [
      "\u001b[32m2024-12-31 11:38:48.992\u001b[0m | \u001b[1mINFO    \u001b[0m | \u001b[36mautoformalizer.clients.lean4_client\u001b[0m:\u001b[36mbatch_verify_proof\u001b[0m:\u001b[36m562\u001b[0m - \u001b[1mProcessing 10000 samples in 10000 batches of size 1\u001b[0m\n",
      "\u001b[32m2024-12-31 11:38:49.676\u001b[0m | \u001b[1mINFO    \u001b[0m | \u001b[36mautoformalizer.clients.lean4_client\u001b[0m:\u001b[36mbatch_verify_proof\u001b[0m:\u001b[36m578\u001b[0m - \u001b[1mNumber of lean server: 5\u001b[0m\n",
      "Verifying proofs: 100%|██████████| 10000/10000 [02:28<00:00, 67.34it/s]\n"
     ]
    }
   ],
   "source": [
    "import os\n",
    "\n",
    "os.environ[\"AUTOFORMALIZER_WORKSPACE\"] = \"/home/wanghaiming/project\"\n",
    "\n",
    "from autoformalizer.clients.lean4_client import Lean4Client, batch_verify_proof\n",
    "\n",
    "\n",
    "\n",
    "client = Lean4Client(\n",
    "    \"http://lean4-evaluator.app.msh.team/\",\n",
    ")\n",
    "\n",
    "results = batch_verify_proof(\n",
    "    client,\n",
    "    samples,\n",
    "    batch_size=1,\n",
    "    num_threads=250,\n",
    "    infotree_type=\"full\"\n",
    ")\n"
   ]
  },
  {
   "cell_type": "code",
   "execution_count": 65,
   "metadata": {},
   "outputs": [
    {
     "name": "stdout",
     "output_type": "stream",
     "text": [
      "{\"code\": \"7f6d2b3a-757d-4088-9d53-d77942b396d5\", \"error\": \"Lean process timed out\", \"response\": null}\n"
     ]
    }
   ],
   "source": [
    "print(results[2712][\"lean_feedback\"])"
   ]
  },
  {
   "cell_type": "code",
   "execution_count": null,
   "metadata": {},
   "outputs": [],
   "source": [
    "import json\n",
    "\n",
    "def extract_compressed_lemma_and_theorems(trees):\n",
    "    \"\"\"\n",
    "    Extracts theorems and lemmas from the infotree\n",
    "    \"\"\"\n",
    "    statements = []\n",
    "    for tree in trees:\n",
    "        try:\n",
    "            tree_pp = tree[\"node\"][\"stx\"][\"pp\"]\n",
    "            if tree_pp.startswith(\"theorem\") or tree_pp.startswith(\"lemma\") or tree_pp.startswith(\"example\"):\n",
    "                theorem_text = \"\".join(tree_pp.split())\n",
    "\n",
    "                # the proof content will always be the second last child\n",
    "                child = tree[\"children\"][-2]\n",
    "                proof_pp = \"\".join(child[\"node\"][\"stx\"][\"pp\"].split())\n",
    "                assert proof_pp in theorem_text\n",
    "                theorem_statment = theorem_text[:theorem_text.index(proof_pp)]\n",
    "                statements.append((theorem_statment, proof_pp, theorem_text))\n",
    "        except KeyError:\n",
    "            continue\n",
    "    return statements\n",
    "\n",
    "def extract_proof_input_output(statements, code):\n",
    "    \"\"\"\n",
    "    Extracts the proof input and output from the proof code\n",
    "    \"\"\"\n",
    "    proof_input_and_outputs = []\n",
    "    for statement in statements:\n",
    "        packed_statement, packed_proof, _ = statement\n",
    "        if packed_proof.startswith(\"by\"):\n",
    "            packed_statement += \"by\"\n",
    "\n",
    "        # Compress code by removing all whitespace characters\n",
    "        compressed_code = ''.join(code.split())\n",
    "\n",
    "        # Find the starting index of B in the compressed A\n",
    "        index = compressed_code.find(packed_statement)\n",
    "        if index == -1:\n",
    "            raise ValueError(\"Compressed string B not found in A\")\n",
    "\n",
    "        # Determine the end position of the matched B in compressed A\n",
    "        end_compressed = index + len(packed_statement)\n",
    "\n",
    "        # Map the end_compressed position back to the original A's index\n",
    "        compressed_count = 0\n",
    "        split_point = None\n",
    "        for i, c in enumerate(code):\n",
    "            if not c.isspace():\n",
    "                compressed_count += 1\n",
    "                if compressed_count == end_compressed:\n",
    "                    split_point = i + 1  # Include the current character\n",
    "                    break\n",
    "                \n",
    "        # If the split point wasn't found within A, set it to the end of A\n",
    "        if split_point is None:\n",
    "            split_point = len(code)\n",
    "\n",
    "        # Split A into before and after\n",
    "        proof_input = code[:split_point]\n",
    "        proof_output = code[split_point:]\n",
    "\n",
    "        assert proof_input[-1] == packed_statement[-1]\n",
    "        proof_input_and_outputs.append((proof_input, proof_output))\n",
    "       \n",
    "    return proof_input_and_outputs\n",
    "\n",
    "for idx, r in enumerate(results):\n",
    "    if r[\"lean_feedback\"] is None:\n",
    "        print(idx, r)\n",
    "        continue\n",
    "    feedback = json.loads(r[\"lean_feedback\"])\n",
    "    if feedback[\"response\"] is None:\n",
    "        print(idx, r)\n",
    "        continue\n",
    "    trees = feedback[\"response\"].get(\"infotree\", None)\n",
    "    res = extract_lemma_and_theorems(trees)\n",
    "    iando = extract_proof_input_output(res, r[\"proof\"])\n",
    "    for io in iando:\n",
    "        print(\"========INPUT============\")\n",
    "        print(io[0])\n",
    "        print(\"========OUTPUT============\")\n",
    "        print(io[1])\n",
    "        print(\"======================\")\n",
    "        print(\"\\n\\n\\n\\n\\n\")"
   ]
  },
  {
   "cell_type": "code",
   "execution_count": null,
   "metadata": {},
   "outputs": [],
   "source": [
    "import pickle\n",
    "full_proof_result = pickle.load(open(\"results.pkl\",\"rb\"))\n",
    "\n",
    "\n",
    "for result in results:\n",
    "    if result[\"is_valid_with_sorry\"] is False:\n",
    "        for r in full_proof_result:\n",
    "            if r[\"proof_id\"] == result[\"proof_id\"] and r[\"is_valid_no_sorry\"] is True:\n",
    "                print(\"====================================\")\n",
    "                print(\"proof_id: \",result[\"proof_id\"])\n",
    "                print(\"source: \",result[\"source\"])\n",
    "                print(result[\"proof\"])\n",
    "                print(\"====================================\")\n",
    "                print(result[\"ori_proof\"])\n",
    "                print(\"====================================\")\n",
    "                print(\"\\n\\n\")\n",
    "                break\n"
   ]
  },
  {
   "cell_type": "code",
   "execution_count": 30,
   "metadata": {},
   "outputs": [
    {
     "name": "stdout",
     "output_type": "stream",
     "text": [
      "49999 50000 0.99998\n"
     ]
    }
   ],
   "source": [
    "cnt, total = 0, 0\n",
    "for res in results:\n",
    "    if res[\"is_valid_with_sorry\"]:\n",
    "        cnt += 1\n",
    "    total += 1\n",
    "\n",
    "print(cnt, total, cnt / total)"
   ]
  },
  {
   "cell_type": "code",
   "execution_count": 11,
   "metadata": {},
   "outputs": [],
   "source": [
    "import pickle\n",
    "pickle.dump(results, open(\"results.pkl\", \"wb\"))"
   ]
  },
  {
   "cell_type": "code",
   "execution_count": 21,
   "metadata": {},
   "outputs": [
    {
     "name": "stdout",
     "output_type": "stream",
     "text": [
      "0.6496911488488275\n",
      "Counter({'lean_workbook': 13474, 'deepseekproverv1': 4566, 'aops-wiki': 23, 'aops-forum': 7, 'aops': 5, 'number-theory-books': 4, 'unknown': 4, 'cnk12': 3, 'olympiads-ref': 2, 'math-train': 2, 'math-test': 1})\n",
      "Counter({'deepseekproverv1': 27503, 'lean_workbook': 13474, 'olympiads': 5125, 'math-train': 1991, 'math-test': 1334, 'aops': 1150, 'cnk12': 382, 'number-theory-books': 280, 'aops-forum': 164, 'aops-wiki': 122, 'unknown': 95, 'olympiads-ref': 23})\n",
      "source                    total    invalid  ratio\n",
      "aops-wiki                 122      23       0.1885245901639344\n",
      "olympiads-ref             23       2        0.08695652173913043\n",
      "aops                      1150     5        0.004347826086956522\n",
      "cnk12                     382      3        0.007853403141361256\n",
      "aops-forum                164      7        0.042682926829268296\n",
      "number-theory-books       280      4        0.014285714285714285\n",
      "unknown                   95       4        0.042105263157894736\n",
      "math-train                1991     2        0.0010045203415369162\n",
      "math-test                 1334     1        0.0007496251874062968\n",
      "olympiads                 5125     0        0.0  \n",
      "deepseekproverv1          27503    4566     0.1660182525542668\n",
      "lean_workbook             13474    13474    1.0  \n"
     ]
    }
   ],
   "source": [
    "\n",
    "\n",
    "from collections import Counter\n",
    "\n",
    "\n",
    "cnt = 0\n",
    "source = []\n",
    "for res in results:\n",
    "    if res[\"is_valid_with_sorry\"]:\n",
    "        cnt += 1\n",
    "    else:\n",
    "        source.append(res[\"source\"])\n",
    "print(cnt/len(results))\n",
    "cc = Counter(source)\n",
    "\n",
    "all_source = []\n",
    "for res in results:\n",
    "    all_source.append(res[\"source\"])\n",
    "\n",
    "cc_all = Counter(all_source)\n",
    "print(cc)\n",
    "print(cc_all)\n",
    "print(f\"{'source':<25} {'total':<8} {'invalid':<8} {'ratio':<5}\")\n",
    "for k, v in cc_all.items():\n",
    "    print(f\"{k:<25} {v:<8} {cc[k]:<8} {cc[k]/v:<5}\")"
   ]
  },
  {
   "cell_type": "code",
   "execution_count": 4,
   "metadata": {},
   "outputs": [
    {
     "data": {
      "application/vnd.jupyter.widget-view+json": {
       "model_id": "e9f1bb96d4cd4fb897a76c7323edac41",
       "version_major": 2,
       "version_minor": 0
      },
      "text/plain": [
       "Loading dataset from disk:   0%|          | 0/320 [00:00<?, ?it/s]"
      ]
     },
     "metadata": {},
     "output_type": "display_data"
    }
   ],
   "source": [
    "import datasets\n",
    "\n",
    "data = datasets.load_from_disk(\"/mnt/moonfs/kimina-m2/.cache/wholeproof-santa-data-no-negation-241230\")"
   ]
  },
  {
   "cell_type": "code",
   "execution_count": 5,
   "metadata": {},
   "outputs": [],
   "source": [
    "# random select 1M samples\n",
    "import random\n",
    "random.seed(42)\n",
    "sub_data = data.select(random.sample(range(len(data)), 1_000_000))"
   ]
  },
  {
   "cell_type": "code",
   "execution_count": 6,
   "metadata": {},
   "outputs": [
    {
     "data": {
      "application/vnd.jupyter.widget-view+json": {
       "model_id": "cc485d8add454fd2a80e654c63e59597",
       "version_major": 2,
       "version_minor": 0
      },
      "text/plain": [
       "Uploading the dataset shards:   0%|          | 0/6 [00:00<?, ?it/s]"
      ]
     },
     "metadata": {},
     "output_type": "display_data"
    },
    {
     "data": {
      "application/vnd.jupyter.widget-view+json": {
       "model_id": "d5f694c2712f485a9e9428dcd64084b1",
       "version_major": 2,
       "version_minor": 0
      },
      "text/plain": [
       "Creating parquet from Arrow format:   0%|          | 0/167 [00:00<?, ?ba/s]"
      ]
     },
     "metadata": {},
     "output_type": "display_data"
    },
    {
     "data": {
      "application/vnd.jupyter.widget-view+json": {
       "model_id": "f20717c345dd45629ede52cb3aa1f16b",
       "version_major": 2,
       "version_minor": 0
      },
      "text/plain": [
       "Creating parquet from Arrow format:   0%|          | 0/167 [00:00<?, ?ba/s]"
      ]
     },
     "metadata": {},
     "output_type": "display_data"
    },
    {
     "data": {
      "application/vnd.jupyter.widget-view+json": {
       "model_id": "97715d9b500d4b74bf9a45358723be4b",
       "version_major": 2,
       "version_minor": 0
      },
      "text/plain": [
       "Creating parquet from Arrow format:   0%|          | 0/167 [00:00<?, ?ba/s]"
      ]
     },
     "metadata": {},
     "output_type": "display_data"
    },
    {
     "data": {
      "application/vnd.jupyter.widget-view+json": {
       "model_id": "ff4ba7037cce4b92a771a88ad69b2b13",
       "version_major": 2,
       "version_minor": 0
      },
      "text/plain": [
       "Creating parquet from Arrow format:   0%|          | 0/167 [00:00<?, ?ba/s]"
      ]
     },
     "metadata": {},
     "output_type": "display_data"
    },
    {
     "data": {
      "application/vnd.jupyter.widget-view+json": {
       "model_id": "ba184c338ad84737892def2b74b3a6ed",
       "version_major": 2,
       "version_minor": 0
      },
      "text/plain": [
       "Creating parquet from Arrow format:   0%|          | 0/167 [00:00<?, ?ba/s]"
      ]
     },
     "metadata": {},
     "output_type": "display_data"
    },
    {
     "data": {
      "application/vnd.jupyter.widget-view+json": {
       "model_id": "2b15f2b72b654bc4b865a1e8fe3ce638",
       "version_major": 2,
       "version_minor": 0
      },
      "text/plain": [
       "Creating parquet from Arrow format:   0%|          | 0/167 [00:00<?, ?ba/s]"
      ]
     },
     "metadata": {},
     "output_type": "display_data"
    },
    {
     "data": {
      "application/vnd.jupyter.widget-view+json": {
       "model_id": "b4682043755e4961adca4a688cff8711",
       "version_major": 2,
       "version_minor": 0
      },
      "text/plain": [
       "README.md:   0%|          | 0.00/667 [00:00<?, ?B/s]"
      ]
     },
     "metadata": {},
     "output_type": "display_data"
    },
    {
     "data": {
      "text/plain": [
       "CommitInfo(commit_url='https://huggingface.co/datasets/AI-MO/wholeproof-moon-santa-prover-v1-1M-no-negation-241231/commit/9483956368f6d268f5e154d7c48fd00297ba06ab', commit_message='Upload dataset', commit_description='', oid='9483956368f6d268f5e154d7c48fd00297ba06ab', pr_url=None, repo_url=RepoUrl('https://huggingface.co/datasets/AI-MO/wholeproof-moon-santa-prover-v1-1M-no-negation-241231', endpoint='https://huggingface.co', repo_type='dataset', repo_id='AI-MO/wholeproof-moon-santa-prover-v1-1M-no-negation-241231'), pr_revision=None, pr_num=None)"
      ]
     },
     "execution_count": 6,
     "metadata": {},
     "output_type": "execute_result"
    }
   ],
   "source": [
    "sub_data.push_to_hub(\"AI-MO/wholeproof-moon-santa-prover-v1-1M-no-negation-241231\", private=True)"
   ]
  },
  {
   "cell_type": "code",
   "execution_count": 6,
   "metadata": {},
   "outputs": [
    {
     "ename": "AttributeError",
     "evalue": "module 'dill' has no attribute '_dill'",
     "output_type": "error",
     "traceback": [
      "\u001b[0;31m---------------------------------------------------------------------------\u001b[0m",
      "\u001b[0;31mAttributeError\u001b[0m                            Traceback (most recent call last)",
      "Cell \u001b[0;32mIn[6], line 1\u001b[0m\n\u001b[0;32m----> 1\u001b[0m \u001b[38;5;28;01mimport\u001b[39;00m \u001b[38;5;21;01mdatasets\u001b[39;00m\n\u001b[1;32m      4\u001b[0m d \u001b[38;5;241m=\u001b[39m datasets\u001b[38;5;241m.\u001b[39mload_dataset(\u001b[38;5;124m'\u001b[39m\u001b[38;5;124mAI-MO/wholeproof-test-data-241229\u001b[39m\u001b[38;5;124m'\u001b[39m, split\u001b[38;5;241m=\u001b[39m\u001b[38;5;124m\"\u001b[39m\u001b[38;5;124mtrain\u001b[39m\u001b[38;5;124m\"\u001b[39m)\n",
      "File \u001b[0;32m~/.conda/envs/autoformalization/lib/python3.12/site-packages/datasets/__init__.py:17\u001b[0m\n\u001b[1;32m      1\u001b[0m \u001b[38;5;66;03m# Copyright 2020 The HuggingFace Datasets Authors and the TensorFlow Datasets Authors.\u001b[39;00m\n\u001b[1;32m      2\u001b[0m \u001b[38;5;66;03m#\u001b[39;00m\n\u001b[1;32m      3\u001b[0m \u001b[38;5;66;03m# Licensed under the Apache License, Version 2.0 (the \"License\");\u001b[39;00m\n\u001b[0;32m   (...)\u001b[0m\n\u001b[1;32m     12\u001b[0m \u001b[38;5;66;03m# See the License for the specific language governing permissions and\u001b[39;00m\n\u001b[1;32m     13\u001b[0m \u001b[38;5;66;03m# limitations under the License.\u001b[39;00m\n\u001b[1;32m     15\u001b[0m __version__ \u001b[38;5;241m=\u001b[39m \u001b[38;5;124m\"\u001b[39m\u001b[38;5;124m2.21.0\u001b[39m\u001b[38;5;124m\"\u001b[39m\n\u001b[0;32m---> 17\u001b[0m \u001b[38;5;28;01mfrom\u001b[39;00m \u001b[38;5;21;01m.\u001b[39;00m\u001b[38;5;21;01marrow_dataset\u001b[39;00m \u001b[38;5;28;01mimport\u001b[39;00m Dataset\n\u001b[1;32m     18\u001b[0m \u001b[38;5;28;01mfrom\u001b[39;00m \u001b[38;5;21;01m.\u001b[39;00m\u001b[38;5;21;01marrow_reader\u001b[39;00m \u001b[38;5;28;01mimport\u001b[39;00m ReadInstruction\n\u001b[1;32m     19\u001b[0m \u001b[38;5;28;01mfrom\u001b[39;00m \u001b[38;5;21;01m.\u001b[39;00m\u001b[38;5;21;01mbuilder\u001b[39;00m \u001b[38;5;28;01mimport\u001b[39;00m ArrowBasedBuilder, BeamBasedBuilder, BuilderConfig, DatasetBuilder, GeneratorBasedBuilder\n",
      "File \u001b[0;32m~/.conda/envs/autoformalization/lib/python3.12/site-packages/datasets/arrow_dataset.py:77\u001b[0m\n\u001b[1;32m     75\u001b[0m \u001b[38;5;28;01mfrom\u001b[39;00m \u001b[38;5;21;01m.\u001b[39;00m \u001b[38;5;28;01mimport\u001b[39;00m config\n\u001b[1;32m     76\u001b[0m \u001b[38;5;28;01mfrom\u001b[39;00m \u001b[38;5;21;01m.\u001b[39;00m\u001b[38;5;21;01marrow_reader\u001b[39;00m \u001b[38;5;28;01mimport\u001b[39;00m ArrowReader\n\u001b[0;32m---> 77\u001b[0m \u001b[38;5;28;01mfrom\u001b[39;00m \u001b[38;5;21;01m.\u001b[39;00m\u001b[38;5;21;01marrow_writer\u001b[39;00m \u001b[38;5;28;01mimport\u001b[39;00m ArrowWriter, OptimizedTypedSequence\n\u001b[1;32m     78\u001b[0m \u001b[38;5;28;01mfrom\u001b[39;00m \u001b[38;5;21;01m.\u001b[39;00m\u001b[38;5;21;01mdata_files\u001b[39;00m \u001b[38;5;28;01mimport\u001b[39;00m sanitize_patterns\n\u001b[1;32m     79\u001b[0m \u001b[38;5;28;01mfrom\u001b[39;00m \u001b[38;5;21;01m.\u001b[39;00m\u001b[38;5;21;01mdownload\u001b[39;00m\u001b[38;5;21;01m.\u001b[39;00m\u001b[38;5;21;01mstreaming_download_manager\u001b[39;00m \u001b[38;5;28;01mimport\u001b[39;00m xgetsize\n",
      "File \u001b[0;32m~/.conda/envs/autoformalization/lib/python3.12/site-packages/datasets/arrow_writer.py:30\u001b[0m\n\u001b[1;32m     27\u001b[0m \u001b[38;5;28;01mfrom\u001b[39;00m \u001b[38;5;21;01mfsspec\u001b[39;00m\u001b[38;5;21;01m.\u001b[39;00m\u001b[38;5;21;01mcore\u001b[39;00m \u001b[38;5;28;01mimport\u001b[39;00m url_to_fs\n\u001b[1;32m     29\u001b[0m \u001b[38;5;28;01mfrom\u001b[39;00m \u001b[38;5;21;01m.\u001b[39;00m \u001b[38;5;28;01mimport\u001b[39;00m config\n\u001b[0;32m---> 30\u001b[0m \u001b[38;5;28;01mfrom\u001b[39;00m \u001b[38;5;21;01m.\u001b[39;00m\u001b[38;5;21;01mfeatures\u001b[39;00m \u001b[38;5;28;01mimport\u001b[39;00m Features, Image, Value\n\u001b[1;32m     31\u001b[0m \u001b[38;5;28;01mfrom\u001b[39;00m \u001b[38;5;21;01m.\u001b[39;00m\u001b[38;5;21;01mfeatures\u001b[39;00m\u001b[38;5;21;01m.\u001b[39;00m\u001b[38;5;21;01mfeatures\u001b[39;00m \u001b[38;5;28;01mimport\u001b[39;00m (\n\u001b[1;32m     32\u001b[0m     FeatureType,\n\u001b[1;32m     33\u001b[0m     _ArrayXDExtensionType,\n\u001b[0;32m   (...)\u001b[0m\n\u001b[1;32m     39\u001b[0m     to_pyarrow_listarray,\n\u001b[1;32m     40\u001b[0m )\n\u001b[1;32m     41\u001b[0m \u001b[38;5;28;01mfrom\u001b[39;00m \u001b[38;5;21;01m.\u001b[39;00m\u001b[38;5;21;01mfilesystems\u001b[39;00m \u001b[38;5;28;01mimport\u001b[39;00m is_remote_filesystem\n",
      "File \u001b[0;32m~/.conda/envs/autoformalization/lib/python3.12/site-packages/datasets/features/__init__.py:16\u001b[0m\n\u001b[1;32m      1\u001b[0m __all__ \u001b[38;5;241m=\u001b[39m [\n\u001b[1;32m      2\u001b[0m     \u001b[38;5;124m\"\u001b[39m\u001b[38;5;124mAudio\u001b[39m\u001b[38;5;124m\"\u001b[39m,\n\u001b[1;32m      3\u001b[0m     \u001b[38;5;124m\"\u001b[39m\u001b[38;5;124mArray2D\u001b[39m\u001b[38;5;124m\"\u001b[39m,\n\u001b[0;32m   (...)\u001b[0m\n\u001b[1;32m     14\u001b[0m     \u001b[38;5;124m\"\u001b[39m\u001b[38;5;124mTranslationVariableLanguages\u001b[39m\u001b[38;5;124m\"\u001b[39m,\n\u001b[1;32m     15\u001b[0m ]\n\u001b[0;32m---> 16\u001b[0m \u001b[38;5;28;01mfrom\u001b[39;00m \u001b[38;5;21;01m.\u001b[39;00m\u001b[38;5;21;01maudio\u001b[39;00m \u001b[38;5;28;01mimport\u001b[39;00m Audio\n\u001b[1;32m     17\u001b[0m \u001b[38;5;28;01mfrom\u001b[39;00m \u001b[38;5;21;01m.\u001b[39;00m\u001b[38;5;21;01mfeatures\u001b[39;00m \u001b[38;5;28;01mimport\u001b[39;00m Array2D, Array3D, Array4D, Array5D, ClassLabel, Features, LargeList, Sequence, Value\n\u001b[1;32m     18\u001b[0m \u001b[38;5;28;01mfrom\u001b[39;00m \u001b[38;5;21;01m.\u001b[39;00m\u001b[38;5;21;01mimage\u001b[39;00m \u001b[38;5;28;01mimport\u001b[39;00m Image\n",
      "File \u001b[0;32m~/.conda/envs/autoformalization/lib/python3.12/site-packages/datasets/features/audio.py:13\u001b[0m\n\u001b[1;32m     11\u001b[0m \u001b[38;5;28;01mfrom\u001b[39;00m \u001b[38;5;21;01m.\u001b[39;00m\u001b[38;5;21;01m.\u001b[39;00m\u001b[38;5;21;01mtable\u001b[39;00m \u001b[38;5;28;01mimport\u001b[39;00m array_cast\n\u001b[1;32m     12\u001b[0m \u001b[38;5;28;01mfrom\u001b[39;00m \u001b[38;5;21;01m.\u001b[39;00m\u001b[38;5;21;01m.\u001b[39;00m\u001b[38;5;21;01mutils\u001b[39;00m\u001b[38;5;21;01m.\u001b[39;00m\u001b[38;5;21;01mfile_utils\u001b[39;00m \u001b[38;5;28;01mimport\u001b[39;00m xopen, xsplitext\n\u001b[0;32m---> 13\u001b[0m \u001b[38;5;28;01mfrom\u001b[39;00m \u001b[38;5;21;01m.\u001b[39;00m\u001b[38;5;21;01m.\u001b[39;00m\u001b[38;5;21;01mutils\u001b[39;00m\u001b[38;5;21;01m.\u001b[39;00m\u001b[38;5;21;01mpy_utils\u001b[39;00m \u001b[38;5;28;01mimport\u001b[39;00m no_op_if_value_is_null, string_to_dict\n\u001b[1;32m     16\u001b[0m \u001b[38;5;28;01mif\u001b[39;00m TYPE_CHECKING:\n\u001b[1;32m     17\u001b[0m     \u001b[38;5;28;01mfrom\u001b[39;00m \u001b[38;5;21;01m.\u001b[39;00m\u001b[38;5;21;01mfeatures\u001b[39;00m \u001b[38;5;28;01mimport\u001b[39;00m FeatureType\n",
      "File \u001b[0;32m~/.conda/envs/autoformalization/lib/python3.12/site-packages/datasets/utils/py_utils.py:45\u001b[0m\n\u001b[1;32m     43\u001b[0m \u001b[38;5;28;01mfrom\u001b[39;00m \u001b[38;5;21;01m.\u001b[39;00m \u001b[38;5;28;01mimport\u001b[39;00m logging\n\u001b[1;32m     44\u001b[0m \u001b[38;5;28;01mfrom\u001b[39;00m \u001b[38;5;21;01m.\u001b[39;00m \u001b[38;5;28;01mimport\u001b[39;00m tqdm \u001b[38;5;28;01mas\u001b[39;00m hf_tqdm\n\u001b[0;32m---> 45\u001b[0m \u001b[38;5;28;01mfrom\u001b[39;00m \u001b[38;5;21;01m.\u001b[39;00m\u001b[38;5;21;01m_dill\u001b[39;00m \u001b[38;5;28;01mimport\u001b[39;00m (  \u001b[38;5;66;03m# noqa: F401 # imported for backward compatibility. TODO: remove in 3.0.0\u001b[39;00m\n\u001b[1;32m     46\u001b[0m     Pickler,\n\u001b[1;32m     47\u001b[0m     dump,\n\u001b[1;32m     48\u001b[0m     dumps,\n\u001b[1;32m     49\u001b[0m     pklregister,\n\u001b[1;32m     50\u001b[0m )\n\u001b[1;32m     51\u001b[0m \u001b[38;5;28;01mfrom\u001b[39;00m \u001b[38;5;21;01m.\u001b[39;00m\u001b[38;5;21;01m_filelock\u001b[39;00m \u001b[38;5;28;01mimport\u001b[39;00m FileLock\n\u001b[1;32m     54\u001b[0m \u001b[38;5;28;01mtry\u001b[39;00m:  \u001b[38;5;66;03m# pragma: no branch\u001b[39;00m\n",
      "File \u001b[0;32m~/.conda/envs/autoformalization/lib/python3.12/site-packages/datasets/utils/_dill.py:27\u001b[0m\n\u001b[1;32m     22\u001b[0m \u001b[38;5;28;01mfrom\u001b[39;00m \u001b[38;5;21;01mpackaging\u001b[39;00m \u001b[38;5;28;01mimport\u001b[39;00m version\n\u001b[1;32m     24\u001b[0m \u001b[38;5;28;01mfrom\u001b[39;00m \u001b[38;5;21;01m.\u001b[39;00m\u001b[38;5;21;01m.\u001b[39;00m \u001b[38;5;28;01mimport\u001b[39;00m config\n\u001b[0;32m---> 27\u001b[0m \u001b[38;5;28;01mclass\u001b[39;00m \u001b[38;5;21;01mPickler\u001b[39;00m(dill\u001b[38;5;241m.\u001b[39mPickler):\n\u001b[1;32m     28\u001b[0m     dispatch \u001b[38;5;241m=\u001b[39m dill\u001b[38;5;241m.\u001b[39m_dill\u001b[38;5;241m.\u001b[39mMetaCatchingDict(dill\u001b[38;5;241m.\u001b[39mPickler\u001b[38;5;241m.\u001b[39mdispatch\u001b[38;5;241m.\u001b[39mcopy())\n\u001b[1;32m     29\u001b[0m     _legacy_no_dict_keys_sorting \u001b[38;5;241m=\u001b[39m \u001b[38;5;28;01mFalse\u001b[39;00m\n",
      "File \u001b[0;32m~/.conda/envs/autoformalization/lib/python3.12/site-packages/datasets/utils/_dill.py:28\u001b[0m, in \u001b[0;36mPickler\u001b[0;34m()\u001b[0m\n\u001b[1;32m     27\u001b[0m \u001b[38;5;28;01mclass\u001b[39;00m \u001b[38;5;21;01mPickler\u001b[39;00m(dill\u001b[38;5;241m.\u001b[39mPickler):\n\u001b[0;32m---> 28\u001b[0m     dispatch \u001b[38;5;241m=\u001b[39m dill\u001b[38;5;241m.\u001b[39m_dill\u001b[38;5;241m.\u001b[39mMetaCatchingDict(dill\u001b[38;5;241m.\u001b[39mPickler\u001b[38;5;241m.\u001b[39mdispatch\u001b[38;5;241m.\u001b[39mcopy())\n\u001b[1;32m     29\u001b[0m     _legacy_no_dict_keys_sorting \u001b[38;5;241m=\u001b[39m \u001b[38;5;28;01mFalse\u001b[39;00m\n\u001b[1;32m     31\u001b[0m     \u001b[38;5;28;01mdef\u001b[39;00m \u001b[38;5;21msave\u001b[39m(\u001b[38;5;28mself\u001b[39m, obj, save_persistent_id\u001b[38;5;241m=\u001b[39m\u001b[38;5;28;01mTrue\u001b[39;00m):\n",
      "\u001b[0;31mAttributeError\u001b[0m: module 'dill' has no attribute '_dill'"
     ]
    }
   ],
   "source": [
    "import datasets\n",
    "\n",
    "\n",
    "d = datasets.load_dataset('AI-MO/wholeproof-test-data-241229', split=\"train\")\n"
   ]
  },
  {
   "cell_type": "code",
   "execution_count": null,
   "metadata": {},
   "outputs": [],
   "source": [
    "lengths = []\n",
    "for sample in d:\n",
    "    lengths.append(len(sample[\"proof_input\"]))\n",
    "    "
   ]
  },
  {
   "cell_type": "code",
   "execution_count": null,
   "metadata": {},
   "outputs": [],
   "source": [
    "for sample in d:\n",
    "    if len(sample[\"proof_input\"]) > 500:\n",
    "        print(\"====================================\")\n",
    "        print(sample[\"uuid\"])\n",
    "        print(sample[\"proof_input\"])\n",
    "        print(\"\\n\\n\\n\\n\\n\")\n"
   ]
  },
  {
   "cell_type": "code",
   "execution_count": 5,
   "metadata": {},
   "outputs": [
    {
     "name": "stdout",
     "output_type": "stream",
     "text": [
      "0.5838946202125024\n"
     ]
    }
   ],
   "source": [
    "import hashlib\n",
    "\n",
    "def hash_to_float(s: str) -> float:\n",
    "    # Hash the string using SHA-256\n",
    "    hash_value = hashlib.sha256(s.encode()).hexdigest()\n",
    "    \n",
    "    # Convert the hex hash value to an integer\n",
    "    int_value = int(hash_value, 16)\n",
    "    \n",
    "    # Normalize the integer value to the range [0, 1]\n",
    "    return int_value / (2**256 - 1)\n",
    "\n",
    "# Example usage:\n",
    "s = \"hellodsfdsfdsdf\"\n",
    "hashed_value = hash_to_float(s)\n",
    "print(hashed_value)"
   ]
  },
  {
   "cell_type": "code",
   "execution_count": 1,
   "metadata": {},
   "outputs": [
    {
     "data": {
      "application/vnd.jupyter.widget-view+json": {
       "model_id": "e1d78283b0f84213a24c9b859f24faea",
       "version_major": 2,
       "version_minor": 0
      },
      "text/plain": [
       "Downloading readme:   0%|          | 0.00/780 [00:00<?, ?B/s]"
      ]
     },
     "metadata": {},
     "output_type": "display_data"
    },
    {
     "data": {
      "application/vnd.jupyter.widget-view+json": {
       "model_id": "1034bd55d4574383857447535f174efe",
       "version_major": 2,
       "version_minor": 0
      },
      "text/plain": [
       "Downloading data:   0%|          | 0.00/27.6M [00:00<?, ?B/s]"
      ]
     },
     "metadata": {},
     "output_type": "display_data"
    },
    {
     "data": {
      "application/vnd.jupyter.widget-view+json": {
       "model_id": "255e7ae41682414c874af68b8f329499",
       "version_major": 2,
       "version_minor": 0
      },
      "text/plain": [
       "Generating train split:   0%|          | 0/4590 [00:00<?, ? examples/s]"
      ]
     },
     "metadata": {},
     "output_type": "display_data"
    }
   ],
   "source": [
    "import datasets\n",
    "\n",
    "d = datasets.load_dataset(\"AI-MO/human-statements-moon-new-year-prover-v1-merged\", split=\"train\", cache_dir=\"/mnt/moonfs/kimina-m2/.cache/ttmmpp\")"
   ]
  },
  {
   "cell_type": "code",
   "execution_count": 2,
   "metadata": {},
   "outputs": [
    {
     "data": {
      "text/plain": [
       "defaultdict(int,\n",
       "            {'human-statements-source:inhouse-evaluation-v1-20250102-train': 1578,\n",
       "             'human-statements-source:PutnamBench-lean4-train': 327,\n",
       "             'human-statements-source:miniF2F-valid': 243,\n",
       "             'human-statements-source:proofnet-valid': 169})"
      ]
     },
     "execution_count": 2,
     "metadata": {},
     "output_type": "execute_result"
    }
   ],
   "source": [
    "from collections import defaultdict\n",
    "\n",
    "ori_d = datasets.load_dataset(\"AI-MO/human-statements-dataset-v1-20250103\", split=\"train\", cache_dir=\"/mnt/moonfs/kimina-m2/.cache/ttmmpp\")\n",
    "\n",
    "catagory = defaultdict(int)\n",
    "for sample in ori_d:\n",
    "    if sample[\"tags\"] is not None:\n",
    "        cata = cata = sample[\"tags\"][-1]\n",
    "        catagory[cata] += 1\n",
    "catagory"
   ]
  },
  {
   "cell_type": "code",
   "execution_count": 4,
   "metadata": {},
   "outputs": [
    {
     "name": "stdout",
     "output_type": "stream",
     "text": [
      "positive result\n",
      "human-statements-source:inhouse-evaluation-v1-20250102-train 890 1578 0.5640050697084917\n",
      "human-statements-source:miniF2F-valid 175 243 0.720164609053498\n",
      "human-statements-source:PutnamBench-lean4-train 160 327 0.4892966360856269\n",
      "human-statements-source:proofnet-valid 41 169 0.24260355029585798\n",
      "negative result\n",
      "human-statements-source:PutnamBench-lean4-train 156 327 0.47706422018348627\n",
      "human-statements-source:miniF2F-valid 4 243 0.01646090534979424\n",
      "human-statements-source:proofnet-valid 5 169 0.029585798816568046\n"
     ]
    }
   ],
   "source": [
    "\n",
    "\n",
    "pos_result = defaultdict(int)\n",
    "neg_result = defaultdict(int)\n",
    "catagory = defaultdict(int)\n",
    "for sample in d:\n",
    "    if sample[\"tags\"] is None:\n",
    "        continue\n",
    "    cata = sample[\"tags\"][-1]\n",
    "    if sample[\"statement_id\"].startswith(\"neg_\"):\n",
    "        if sample[\"n_correct_proofs\"] > 0:\n",
    "            neg_result[cata] += 1\n",
    "            # if cata == \"human-statements-source:miniF2F-valid\":\n",
    "                # print(sample[\"statement_id\"])\n",
    "                # print(sample[\"one_formal_proof\"])\n",
    "    else:\n",
    "        if sample[\"n_correct_proofs\"] > 0:\n",
    "            pos_result[cata] += 1\n",
    "        catagory[cata] += 1\n",
    "\n",
    "# print positive result\n",
    "print(\"positive result\")\n",
    "for k, v in pos_result.items():\n",
    "    print(k, v, catagory[k], v/catagory[k])\n",
    "\n",
    "print(\"negative result\")\n",
    "for k, v in neg_result.items():\n",
    "    print(k, v, catagory[k], v/catagory[k])"
   ]
  },
  {
   "cell_type": "code",
   "execution_count": 22,
   "metadata": {},
   "outputs": [
    {
     "data": {
      "text/plain": [
       "\"import Mathlib.Combinatorics.SimpleGraph.Finite\\nimport Mathlib.Combinatorics.SimpleGraph.Maps\\n\\nopen Finset\\n\\nnamespace SimpleGraph\\n\\nvariable {V : Type*} (G : SimpleGraph V) (s t : V)\\n\\nnamespace Iso\\n\\nvariable {G} {W : Type*} {G' : SimpleGraph W} (f : G ≃g G')\\n\\ninclude f in\\ntheorem card_edgeFinset_eq [Fintype G.edgeSet] [Fintype G'.edgeSet] :\\n    G.edgeFinset.card = G'.edgeFinset.card := by \\n\""
      ]
     },
     "execution_count": 22,
     "metadata": {},
     "output_type": "execute_result"
    }
   ],
   "source": [
    "import datasets\n",
    "\n",
    "d = datasets.load_dataset(\"AI-MO/human-statements-dataset-v1-mathlib-20250106\", split=\"train\", cache_dir=\"/mnt/moonfs/kimina-m2/.cache/ttmmpp\")\n",
    "d[0][\"formal_statement\"]"
   ]
  },
  {
   "cell_type": "code",
   "execution_count": 16,
   "metadata": {},
   "outputs": [
    {
     "name": "stdout",
     "output_type": "stream",
     "text": [
      "4000\n",
      "    rw [mul_comm] at H\n",
      "    exact H.of_mul_right_left\n",
      "\n",
      "theorem IsCoprime.mul_left_iff : IsCoprime (x * y) z ↔ IsCoprime x z ∧ IsCoprime y z :=\n",
      "  ⟨fun H => ⟨H.of_mul_left_left, H.of_mul_left_right⟩, fun ⟨H1, H2⟩ => H1.mul_left H2⟩\n",
      "\n",
      "theorem IsCoprime.mul_right_iff : IsCoprime x (y * z) ↔ IsCoprime x y ∧ IsCoprime x z := by\n",
      "  rw [isCoprime_comm, IsCoprime.mul_left_iff, isCoprime_comm, @isCoprime_comm _ _ z]\n",
      "\n",
      "theorem IsCoprime.of_prod_left (H : IsCoprime (x * y) z) : IsCoprime x z :=\n",
      "  let ⟨a, b, H⟩ := H\n",
      "  ⟨a * y, b, by rw [mul_right_comm, mul_assoc, H, mul_one]⟩\n",
      "\n",
      "theorem IsCoprime.of_prod_right (H : IsCoprime x (y * z)) : IsCoprime x y := by\n",
      "  rw [isCoprime_comm] at H ⊢\n",
      "  exact H.of_prod_left\n",
      "\n",
      "theorem IsCoprime.of_prod_mul (H : IsCoprime (x * y) (x * z)) : IsCoprime x y := by\n",
      "  rw [isCoprime_comm] at H\n",
      "  exact H.of_prod_left.of_prod_right\n",
      "\n",
      "theorem IsCoprime.of_mul_prod (H : IsCoprime x (y * z)) : IsCoprime y z :=\n",
      "  isCoprime_comm.1 <| H.of_prod_right.of_prod_left\n",
      "\n",
      "theorem IsCoprime.of_dvd_of_dvd (H : IsCoprime x z) (H1 : x ∣ y) (H2 : z ∣ y) : IsCoprime x z := by\n",
      "  obtain ⟨x', rfl⟩ := H1\n",
      "  obtain ⟨z', rfl⟩ := H2\n",
      "  exact H.mul_left x'.ne_zero ▸ H.mul_right z'.ne_zero\n",
      "\n",
      "theorem IsCoprime.of_dvd_of_dvd_left (h : IsCoprime y z) (h1 : x ∣ y) : IsCoprime x z :=\n",
      "  h.of_dvd_of_dvd h1 dvd_rfl\n",
      "\n",
      "theorem IsCoprime.of_dvd_of_dvd_right (h : IsCoprime z y) (h1 : x ∣ y) : IsCoprime z x :=\n",
      "  h.of_dvd_of_dvd dvd_rfl h1\n",
      "\n",
      "theorem IsCoprime.isUnit_of_dvd (H : IsCoprime x y) (d : x ∣ y) : IsUnit x :=\n",
      "  let ⟨k, hk⟩ := d\n",
      "  isCoprime_self.1 <| IsCoprime.of_mul_left_left <| show IsCoprime x (x * k) from hk ▸ H\n",
      "```\n"
     ]
    }
   ],
   "source": [
    "from openai import OpenAI\n",
    "from transformers import AutoTokenizer\n",
    "\n",
    "tokenizer = AutoTokenizer.from_pretrained(\"/mnt/moonfs/kimina-m2/models/deepseekprover/DeepSeek-Prover-V1.5-RL\")\n",
    "formal_statement = d[998][\"formal_statement\"]\n",
    "code = f\"Complete the following Lean 4 code:\\n\\n```lean4\\n{formal_statement}\"\n",
    "print(len(code[-4000:]))\n",
    "client = OpenAI(base_url=\"https://deepseek-ai-DeepSeek-Prover-V1_5-RL.app.msh.team/v1/\", api_key=\"EMPTY\")\n",
    "res = client.completions.create(\n",
    "    model=\"deepseek-ai-DeepSeek-Prover-V1_5-RL\",\n",
    "    prompt=code,\n",
    "    max_tokens=2048,\n",
    ")\n",
    "client.token\n",
    "print(res.choices[0].text)"
   ]
  },
  {
   "cell_type": "code",
   "execution_count": null,
   "metadata": {},
   "outputs": [],
   "source": [
    "from transformers import AutoTokenizer\n",
    "\n",
    "tokenizer = AutoTokenizer.from_pretrained(\"/mnt/moonfs/kimina-m2/models/deepseekprover/DeepSeek-Prover-V1.5-RL\")\n",
    "for sample in d:\n",
    "    formal_statement = sample[\"formal_statement\"]\n",
    "    code = f\"Complete the following Lean 4 code:\\n\\n```lean4\\n{formal_statement}\"[-4000:]\n",
    "    tl = len(tokenizer.encode(code))\n",
    "    if tl > 2000:\n",
    "        print(len(code), tl)\n"
   ]
  },
  {
   "cell_type": "code",
   "execution_count": 2,
   "metadata": {},
   "outputs": [
    {
     "data": {
      "application/vnd.jupyter.widget-view+json": {
       "model_id": "59eef03afa0442aeb2a960e9c2617a02",
       "version_major": 2,
       "version_minor": 0
      },
      "text/plain": [
       "Resolving data files:   0%|          | 0/149 [00:00<?, ?it/s]"
      ]
     },
     "metadata": {},
     "output_type": "display_data"
    },
    {
     "data": {
      "application/vnd.jupyter.widget-view+json": {
       "model_id": "44e49e4e9bb143cbb1543ad80f89b3b6",
       "version_major": 2,
       "version_minor": 0
      },
      "text/plain": [
       "Resolving data files:   0%|          | 0/149 [00:00<?, ?it/s]"
      ]
     },
     "metadata": {},
     "output_type": "display_data"
    },
    {
     "data": {
      "application/vnd.jupyter.widget-view+json": {
       "model_id": "349d73fe96cb47bf897bcc6e26816d54",
       "version_major": 2,
       "version_minor": 0
      },
      "text/plain": [
       "Loading dataset shards:   0%|          | 0/148 [00:00<?, ?it/s]"
      ]
     },
     "metadata": {},
     "output_type": "display_data"
    }
   ],
   "source": [
    "import datasets\n",
    "\n",
    "data = datasets.load_dataset(\"AI-MO/auto-statements-moon-santa-prover-v1\", split=\"train\", cache_dir=\"/mnt/moonfs/kimina-m2/.cache/ttmmpp\")"
   ]
  },
  {
   "cell_type": "code",
   "execution_count": 3,
   "metadata": {},
   "outputs": [],
   "source": [
    "data = data.select(range(1000))"
   ]
  },
  {
   "cell_type": "code",
   "execution_count": 4,
   "metadata": {},
   "outputs": [
    {
     "name": "stdout",
     "output_type": "stream",
     "text": [
      "1\n",
      "2\n",
      "3\n",
      "4\n",
      "5\n",
      "6\n"
     ]
    },
    {
     "data": {
      "text/html": [
       "<div>\n",
       "<style scoped>\n",
       "    .dataframe tbody tr th:only-of-type {\n",
       "        vertical-align: middle;\n",
       "    }\n",
       "\n",
       "    .dataframe tbody tr th {\n",
       "        vertical-align: top;\n",
       "    }\n",
       "\n",
       "    .dataframe thead th {\n",
       "        text-align: right;\n",
       "    }\n",
       "</style>\n",
       "<table border=\"1\" class=\"dataframe\">\n",
       "  <thead>\n",
       "    <tr style=\"text-align: right;\">\n",
       "      <th></th>\n",
       "      <th>statement_id</th>\n",
       "      <th>natural_language</th>\n",
       "      <th>is_negation</th>\n",
       "      <th>uuid</th>\n",
       "      <th>formal_statement</th>\n",
       "      <th>proof_id</th>\n",
       "      <th>n_proofs</th>\n",
       "      <th>n_correct_proofs</th>\n",
       "      <th>correct_proof_samples</th>\n",
       "      <th>one_formal_proof</th>\n",
       "    </tr>\n",
       "  </thead>\n",
       "  <tbody>\n",
       "    <tr>\n",
       "      <th>0</th>\n",
       "      <td>30b5f8f9-3e02-40a1-9ee0-7f79b5cceef3</td>\n",
       "      <td>If $2^8=4^x$, what is the value of $x$?\\n\\nThe...</td>\n",
       "      <td>False</td>\n",
       "      <td>4563f920-7246-5215-9bdd-1e71c0408b9e</td>\n",
       "      <td>import Mathlib\\n\\ntheorem algebra_18610 (x : ℕ...</td>\n",
       "      <td>[30b5f8f9-3e02-40a1-9ee0-7f79b5cceef3_0, 30b5f...</td>\n",
       "      <td>32</td>\n",
       "      <td>0</td>\n",
       "      <td>[import Mathlib\\n\\ntheorem algebra_18610 (x : ...</td>\n",
       "      <td></td>\n",
       "    </tr>\n",
       "    <tr>\n",
       "      <th>1</th>\n",
       "      <td>neg_30b5f8f9-3e02-40a1-9ee0-7f79b5cceef3</td>\n",
       "      <td>If $2^8=4^x$, what is the value of $x$?\\n\\nThe...</td>\n",
       "      <td>True</td>\n",
       "      <td>4563f920-7246-5215-9bdd-1e71c0408b9e</td>\n",
       "      <td>import Mathlib\\n\\ntheorem negated_algebra_1861...</td>\n",
       "      <td>[neg_30b5f8f9-3e02-40a1-9ee0-7f79b5cceef3_0, n...</td>\n",
       "      <td>10</td>\n",
       "      <td>0</td>\n",
       "      <td>[]</td>\n",
       "      <td></td>\n",
       "    </tr>\n",
       "    <tr>\n",
       "      <th>2</th>\n",
       "      <td>3c209234-bc89-4348-befb-d44041ab8ff3</td>\n",
       "      <td>If $2^8=4^x$, what is the value of $x$?\\n\\nThe...</td>\n",
       "      <td>False</td>\n",
       "      <td>4563f920-7246-5215-9bdd-1e71c0408b9e</td>\n",
       "      <td>import Mathlib\\n\\ntheorem algebra_18610 (x : ℕ...</td>\n",
       "      <td>[3c209234-bc89-4348-befb-d44041ab8ff3_0, 3c209...</td>\n",
       "      <td>32</td>\n",
       "      <td>0</td>\n",
       "      <td>[]</td>\n",
       "      <td></td>\n",
       "    </tr>\n",
       "    <tr>\n",
       "      <th>3</th>\n",
       "      <td>neg_3c209234-bc89-4348-befb-d44041ab8ff3</td>\n",
       "      <td>If $2^8=4^x$, what is the value of $x$?\\n\\nThe...</td>\n",
       "      <td>True</td>\n",
       "      <td>4563f920-7246-5215-9bdd-1e71c0408b9e</td>\n",
       "      <td>import Mathlib\\n\\ntheorem negated_algebra_1861...</td>\n",
       "      <td>[neg_3c209234-bc89-4348-befb-d44041ab8ff3_0, n...</td>\n",
       "      <td>21</td>\n",
       "      <td>0</td>\n",
       "      <td>[]</td>\n",
       "      <td></td>\n",
       "    </tr>\n",
       "    <tr>\n",
       "      <th>4</th>\n",
       "      <td>b3e8346d-4938-4b9f-8a9a-545ce6d0201f</td>\n",
       "      <td>If $2^8=4^x$, what is the value of $x$?\\n\\nThe...</td>\n",
       "      <td>False</td>\n",
       "      <td>4563f920-7246-5215-9bdd-1e71c0408b9e</td>\n",
       "      <td>import Mathlib\\n\\ntheorem algebra_18610 (x : ℕ...</td>\n",
       "      <td>[b3e8346d-4938-4b9f-8a9a-545ce6d0201f_0, b3e83...</td>\n",
       "      <td>32</td>\n",
       "      <td>0</td>\n",
       "      <td>[]</td>\n",
       "      <td></td>\n",
       "    </tr>\n",
       "    <tr>\n",
       "      <th>...</th>\n",
       "      <td>...</td>\n",
       "      <td>...</td>\n",
       "      <td>...</td>\n",
       "      <td>...</td>\n",
       "      <td>...</td>\n",
       "      <td>...</td>\n",
       "      <td>...</td>\n",
       "      <td>...</td>\n",
       "      <td>...</td>\n",
       "      <td>...</td>\n",
       "    </tr>\n",
       "    <tr>\n",
       "      <th>978</th>\n",
       "      <td>45ed7ff7-b5d3-40b9-a430-83ec8076232a</td>\n",
       "      <td>A bookstore is deciding what price it should c...</td>\n",
       "      <td>False</td>\n",
       "      <td>5eec702b-27ae-51ba-baaa-431893af28ad</td>\n",
       "      <td>import Mathlib\\n\\ntheorem algebra_18879 {f : ℝ...</td>\n",
       "      <td>[45ed7ff7-b5d3-40b9-a430-83ec8076232a_0, 45ed7...</td>\n",
       "      <td>32</td>\n",
       "      <td>0</td>\n",
       "      <td>[]</td>\n",
       "      <td></td>\n",
       "    </tr>\n",
       "    <tr>\n",
       "      <th>979</th>\n",
       "      <td>neg_45ed7ff7-b5d3-40b9-a430-83ec8076232a</td>\n",
       "      <td>A bookstore is deciding what price it should c...</td>\n",
       "      <td>True</td>\n",
       "      <td>5eec702b-27ae-51ba-baaa-431893af28ad</td>\n",
       "      <td>import Mathlib\\n\\ntheorem negated_algebra_1887...</td>\n",
       "      <td>[neg_45ed7ff7-b5d3-40b9-a430-83ec8076232a_0, n...</td>\n",
       "      <td>30</td>\n",
       "      <td>0</td>\n",
       "      <td>[]</td>\n",
       "      <td></td>\n",
       "    </tr>\n",
       "    <tr>\n",
       "      <th>980</th>\n",
       "      <td>9d663622-4383-4bd5-be1a-1b9af1fdbef6</td>\n",
       "      <td>A bookstore is deciding what price it should c...</td>\n",
       "      <td>False</td>\n",
       "      <td>5eec702b-27ae-51ba-baaa-431893af28ad</td>\n",
       "      <td>import Mathlib\\n\\ntheorem algebra_18879 {p : ℝ...</td>\n",
       "      <td>[9d663622-4383-4bd5-be1a-1b9af1fdbef6_0, 9d663...</td>\n",
       "      <td>13</td>\n",
       "      <td>6</td>\n",
       "      <td>[import Mathlib\\n\\ntheorem algebra_18879 {p : ...</td>\n",
       "      <td>import Mathlib\\n\\ntheorem algebra_18879 {p : ℝ...</td>\n",
       "    </tr>\n",
       "    <tr>\n",
       "      <th>990</th>\n",
       "      <td>9edba20e-b435-4b84-93d1-f21ceba27a7c</td>\n",
       "      <td>A bookstore is deciding what price it should c...</td>\n",
       "      <td>False</td>\n",
       "      <td>5eec702b-27ae-51ba-baaa-431893af28ad</td>\n",
       "      <td>import Mathlib\\n\\ntheorem algebra_18879 {p : ℝ...</td>\n",
       "      <td>[9edba20e-b435-4b84-93d1-f21ceba27a7c_0, 9edba...</td>\n",
       "      <td>17</td>\n",
       "      <td>0</td>\n",
       "      <td>[]</td>\n",
       "      <td></td>\n",
       "    </tr>\n",
       "    <tr>\n",
       "      <th>991</th>\n",
       "      <td>neg_9edba20e-b435-4b84-93d1-f21ceba27a7c</td>\n",
       "      <td>A bookstore is deciding what price it should c...</td>\n",
       "      <td>True</td>\n",
       "      <td>5eec702b-27ae-51ba-baaa-431893af28ad</td>\n",
       "      <td>import Mathlib\\n\\ntheorem negated_algebra_1887...</td>\n",
       "      <td>[neg_9edba20e-b435-4b84-93d1-f21ceba27a7c_0, n...</td>\n",
       "      <td>24</td>\n",
       "      <td>0</td>\n",
       "      <td>[]</td>\n",
       "      <td></td>\n",
       "    </tr>\n",
       "  </tbody>\n",
       "</table>\n",
       "<p>496 rows × 10 columns</p>\n",
       "</div>"
      ],
      "text/plain": [
       "                                 statement_id  \\\n",
       "0        30b5f8f9-3e02-40a1-9ee0-7f79b5cceef3   \n",
       "1    neg_30b5f8f9-3e02-40a1-9ee0-7f79b5cceef3   \n",
       "2        3c209234-bc89-4348-befb-d44041ab8ff3   \n",
       "3    neg_3c209234-bc89-4348-befb-d44041ab8ff3   \n",
       "4        b3e8346d-4938-4b9f-8a9a-545ce6d0201f   \n",
       "..                                        ...   \n",
       "978      45ed7ff7-b5d3-40b9-a430-83ec8076232a   \n",
       "979  neg_45ed7ff7-b5d3-40b9-a430-83ec8076232a   \n",
       "980      9d663622-4383-4bd5-be1a-1b9af1fdbef6   \n",
       "990      9edba20e-b435-4b84-93d1-f21ceba27a7c   \n",
       "991  neg_9edba20e-b435-4b84-93d1-f21ceba27a7c   \n",
       "\n",
       "                                      natural_language  is_negation  \\\n",
       "0    If $2^8=4^x$, what is the value of $x$?\\n\\nThe...        False   \n",
       "1    If $2^8=4^x$, what is the value of $x$?\\n\\nThe...         True   \n",
       "2    If $2^8=4^x$, what is the value of $x$?\\n\\nThe...        False   \n",
       "3    If $2^8=4^x$, what is the value of $x$?\\n\\nThe...         True   \n",
       "4    If $2^8=4^x$, what is the value of $x$?\\n\\nThe...        False   \n",
       "..                                                 ...          ...   \n",
       "978  A bookstore is deciding what price it should c...        False   \n",
       "979  A bookstore is deciding what price it should c...         True   \n",
       "980  A bookstore is deciding what price it should c...        False   \n",
       "990  A bookstore is deciding what price it should c...        False   \n",
       "991  A bookstore is deciding what price it should c...         True   \n",
       "\n",
       "                                     uuid  \\\n",
       "0    4563f920-7246-5215-9bdd-1e71c0408b9e   \n",
       "1    4563f920-7246-5215-9bdd-1e71c0408b9e   \n",
       "2    4563f920-7246-5215-9bdd-1e71c0408b9e   \n",
       "3    4563f920-7246-5215-9bdd-1e71c0408b9e   \n",
       "4    4563f920-7246-5215-9bdd-1e71c0408b9e   \n",
       "..                                    ...   \n",
       "978  5eec702b-27ae-51ba-baaa-431893af28ad   \n",
       "979  5eec702b-27ae-51ba-baaa-431893af28ad   \n",
       "980  5eec702b-27ae-51ba-baaa-431893af28ad   \n",
       "990  5eec702b-27ae-51ba-baaa-431893af28ad   \n",
       "991  5eec702b-27ae-51ba-baaa-431893af28ad   \n",
       "\n",
       "                                      formal_statement  \\\n",
       "0    import Mathlib\\n\\ntheorem algebra_18610 (x : ℕ...   \n",
       "1    import Mathlib\\n\\ntheorem negated_algebra_1861...   \n",
       "2    import Mathlib\\n\\ntheorem algebra_18610 (x : ℕ...   \n",
       "3    import Mathlib\\n\\ntheorem negated_algebra_1861...   \n",
       "4    import Mathlib\\n\\ntheorem algebra_18610 (x : ℕ...   \n",
       "..                                                 ...   \n",
       "978  import Mathlib\\n\\ntheorem algebra_18879 {f : ℝ...   \n",
       "979  import Mathlib\\n\\ntheorem negated_algebra_1887...   \n",
       "980  import Mathlib\\n\\ntheorem algebra_18879 {p : ℝ...   \n",
       "990  import Mathlib\\n\\ntheorem algebra_18879 {p : ℝ...   \n",
       "991  import Mathlib\\n\\ntheorem negated_algebra_1887...   \n",
       "\n",
       "                                              proof_id  n_proofs  \\\n",
       "0    [30b5f8f9-3e02-40a1-9ee0-7f79b5cceef3_0, 30b5f...        32   \n",
       "1    [neg_30b5f8f9-3e02-40a1-9ee0-7f79b5cceef3_0, n...        10   \n",
       "2    [3c209234-bc89-4348-befb-d44041ab8ff3_0, 3c209...        32   \n",
       "3    [neg_3c209234-bc89-4348-befb-d44041ab8ff3_0, n...        21   \n",
       "4    [b3e8346d-4938-4b9f-8a9a-545ce6d0201f_0, b3e83...        32   \n",
       "..                                                 ...       ...   \n",
       "978  [45ed7ff7-b5d3-40b9-a430-83ec8076232a_0, 45ed7...        32   \n",
       "979  [neg_45ed7ff7-b5d3-40b9-a430-83ec8076232a_0, n...        30   \n",
       "980  [9d663622-4383-4bd5-be1a-1b9af1fdbef6_0, 9d663...        13   \n",
       "990  [9edba20e-b435-4b84-93d1-f21ceba27a7c_0, 9edba...        17   \n",
       "991  [neg_9edba20e-b435-4b84-93d1-f21ceba27a7c_0, n...        24   \n",
       "\n",
       "     n_correct_proofs                              correct_proof_samples  \\\n",
       "0                   0  [import Mathlib\\n\\ntheorem algebra_18610 (x : ...   \n",
       "1                   0                                                 []   \n",
       "2                   0                                                 []   \n",
       "3                   0                                                 []   \n",
       "4                   0                                                 []   \n",
       "..                ...                                                ...   \n",
       "978                 0                                                 []   \n",
       "979                 0                                                 []   \n",
       "980                 6  [import Mathlib\\n\\ntheorem algebra_18879 {p : ...   \n",
       "990                 0                                                 []   \n",
       "991                 0                                                 []   \n",
       "\n",
       "                                      one_formal_proof  \n",
       "0                                                       \n",
       "1                                                       \n",
       "2                                                       \n",
       "3                                                       \n",
       "4                                                       \n",
       "..                                                 ...  \n",
       "978                                                     \n",
       "979                                                     \n",
       "980  import Mathlib\\n\\ntheorem algebra_18879 {p : ℝ...  \n",
       "990                                                     \n",
       "991                                                     \n",
       "\n",
       "[496 rows x 10 columns]"
      ]
     },
     "execution_count": 4,
     "metadata": {},
     "output_type": "execute_result"
    }
   ],
   "source": [
    "data_df = data.to_pandas()\n",
    "\n",
    "print(\"1\")\n",
    "pos_statements = data_df[(data_df[\"is_negation\"] == False) & (data_df[\"n_correct_proofs\"] > 0)][\"statement_id\"].unique()\n",
    "neg_statements = data_df[(data_df[\"is_negation\"] == True) & (data_df[\"n_correct_proofs\"] > 0)][\"statement_id\"].unique()\n",
    "\n",
    "# filter out statements with n_correct_proofs > 10\n",
    "# data_df = data_df[data_df[\"n_correct_proofs\"] < 10]\n",
    "print(\"2\")\n",
    "pos_statements = pos_statements.tolist()\n",
    "neg_statements = neg_statements.tolist()\n",
    "\n",
    "print(\"3\")\n",
    "pos_statements_mark = []\n",
    "for statement in pos_statements:\n",
    "    pos_statements_mark.append(f\"neg_{statement}\")\n",
    "neg_statements_mark = []\n",
    "for statement in neg_statements:\n",
    "    neg_statements_mark.append(statement[len(\"neg_\"):])\n",
    "print(\"4\")\n",
    "remove_statements = set(pos_statements_mark + neg_statements_mark)\n",
    "data_df = data_df[~data_df[\"statement_id\"].isin(remove_statements)]\n",
    "print(\"5\")\n",
    "\n",
    "# filter out statements with n_correct_proofs > 10\n",
    "data_df = data_df[data_df[\"n_correct_proofs\"] < 10]\n",
    "print(\"6\")\n",
    "\n",
    "data_df\n"
   ]
  },
  {
   "cell_type": "code",
   "execution_count": null,
   "metadata": {},
   "outputs": [
    {
     "ename": "ModuleNotFoundError",
     "evalue": "No module named 'Queue'",
     "output_type": "error",
     "traceback": [
      "\u001b[0;31m---------------------------------------------------------------------------\u001b[0m",
      "\u001b[0;31mModuleNotFoundError\u001b[0m                       Traceback (most recent call last)",
      "Cell \u001b[0;32mIn[12], line 2\u001b[0m\n\u001b[1;32m      1\u001b[0m \u001b[38;5;28;01mimport\u001b[39;00m \u001b[38;5;21;01mmultiprocessing\u001b[39;00m \u001b[38;5;28;01mas\u001b[39;00m \u001b[38;5;21;01mmp\u001b[39;00m\n\u001b[0;32m----> 2\u001b[0m \u001b[38;5;28;01mimport\u001b[39;00m \u001b[38;5;21;01mQueue\u001b[39;00m\n\u001b[1;32m      4\u001b[0m a \u001b[38;5;241m=\u001b[39m mp\u001b[38;5;241m.\u001b[39mManager()\u001b[38;5;241m.\u001b[39mQueue()\n\u001b[1;32m      6\u001b[0m \u001b[38;5;28;01mtry\u001b[39;00m:\n",
      "\u001b[0;31mModuleNotFoundError\u001b[0m: No module named 'Queue'"
     ]
    }
   ],
   "source": [
    "import multiprocessing as mp\n",
    "import queue\n",
    "\n",
    "a = mp.Manager().Queue()\n",
    "\n",
    "try:\n",
    "    a.get(timeout=1)\n",
    "except queue.Empty:\n",
    "    print(\"her2e\")"
   ]
  }
 ],
 "metadata": {
  "kernelspec": {
   "display_name": "autoformalization",
   "language": "python",
   "name": "python3"
  },
  "language_info": {
   "codemirror_mode": {
    "name": "ipython",
    "version": 3
   },
   "file_extension": ".py",
   "mimetype": "text/x-python",
   "name": "python",
   "nbconvert_exporter": "python",
   "pygments_lexer": "ipython3",
   "version": "3.12.2"
  }
 },
 "nbformat": 4,
 "nbformat_minor": 2
}
