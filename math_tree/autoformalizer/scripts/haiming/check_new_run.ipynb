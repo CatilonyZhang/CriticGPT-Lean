{
 "cells": [
  {
   "cell_type": "code",
   "execution_count": 11,
   "metadata": {},
   "outputs": [
    {
     "data": {
      "application/vnd.jupyter.widget-view+json": {
       "model_id": "dc9d32d6654142898c901e5acadad173",
       "version_major": 2,
       "version_minor": 0
      },
      "text/plain": [
       "Downloading readme:   0%|          | 0.00/780 [00:00<?, ?B/s]"
      ]
     },
     "metadata": {},
     "output_type": "display_data"
    },
    {
     "data": {
      "application/vnd.jupyter.widget-view+json": {
       "model_id": "33d576c80da94555aa7b1aea72e4ee68",
       "version_major": 2,
       "version_minor": 0
      },
      "text/plain": [
       "Downloading data:   0%|          | 0.00/27.6M [00:00<?, ?B/s]"
      ]
     },
     "metadata": {},
     "output_type": "display_data"
    },
    {
     "data": {
      "application/vnd.jupyter.widget-view+json": {
       "model_id": "f0cd631920db4f189a45f5c1d7d6ed08",
       "version_major": 2,
       "version_minor": 0
      },
      "text/plain": [
       "Generating train split:   0%|          | 0/4590 [00:00<?, ? examples/s]"
      ]
     },
     "metadata": {},
     "output_type": "display_data"
    }
   ],
   "source": [
    "import datasets\n",
    "\n",
    "d = datasets.load_dataset(\"AI-MO/human-statements-moon-new-year-prover-v1-merged\", split=\"train\", cache_dir=\"/mnt/moonfs/wanghaiming-m2/tmp/.cache\")\n",
    "\n",
    "d_samll = d.select(range(1000))"
   ]
  },
  {
   "cell_type": "code",
   "execution_count": 12,
   "metadata": {},
   "outputs": [],
   "source": [
    "import json\n",
    "df = d.to_pandas()\n",
    "true_statment_id = df[df[\"n_correct_proofs\"] > 0][\"statement_id\"].unique().tolist()\n",
    "with open(\"true_statment_id.json\", \"w\") as f:\n",
    "    json.dump(true_statment_id, f)"
   ]
  },
  {
   "cell_type": "code",
   "execution_count": 13,
   "metadata": {},
   "outputs": [
    {
     "data": {
      "text/plain": [
       "1431"
      ]
     },
     "execution_count": 13,
     "metadata": {},
     "output_type": "execute_result"
    }
   ],
   "source": [
    "with open(\"true_statment_id.json\", \"r\") as f:\n",
    "    true_statment_id = json.load(f)\n",
    "\n",
    "len(true_statment_id)"
   ]
  },
  {
   "cell_type": "code",
   "execution_count": 1,
   "metadata": {},
   "outputs": [
    {
     "data": {
      "application/vnd.jupyter.widget-view+json": {
       "model_id": "f6a7d7c658584dceb3e9f0a0499c24c5",
       "version_major": 2,
       "version_minor": 0
      },
      "text/plain": [
       "Downloading data:   0%|          | 0.00/3.47M [00:00<?, ?B/s]"
      ]
     },
     "metadata": {},
     "output_type": "display_data"
    },
    {
     "data": {
      "application/vnd.jupyter.widget-view+json": {
       "model_id": "c2eccf9639a2416ba83ae65b98248aae",
       "version_major": 2,
       "version_minor": 0
      },
      "text/plain": [
       "Generating train split:   0%|          | 0/3021 [00:00<?, ? examples/s]"
      ]
     },
     "metadata": {},
     "output_type": "display_data"
    },
    {
     "ename": "AttributeError",
     "evalue": "'int' object has no attribute 'tolist'",
     "output_type": "error",
     "traceback": [
      "\u001b[0;31m---------------------------------------------------------------------------\u001b[0m",
      "\u001b[0;31mAttributeError\u001b[0m                            Traceback (most recent call last)",
      "Cell \u001b[0;32mIn[1], line 7\u001b[0m\n\u001b[1;32m      3\u001b[0m d \u001b[38;5;241m=\u001b[39m datasets\u001b[38;5;241m.\u001b[39mload_dataset(\u001b[38;5;124m\"\u001b[39m\u001b[38;5;124mAI-MO/human-statements-dataset-v2-20250118\u001b[39m\u001b[38;5;124m\"\u001b[39m, split\u001b[38;5;241m=\u001b[39m\u001b[38;5;124m\"\u001b[39m\u001b[38;5;124mtrain\u001b[39m\u001b[38;5;124m\"\u001b[39m, cache_dir\u001b[38;5;241m=\u001b[39m\u001b[38;5;124m\"\u001b[39m\u001b[38;5;124m/mnt/moonfs/wanghaiming-m2/tmp/.cache\u001b[39m\u001b[38;5;124m\"\u001b[39m)\n\u001b[1;32m      5\u001b[0m d \u001b[38;5;241m=\u001b[39m d\u001b[38;5;241m.\u001b[39mto_pandas()\n\u001b[0;32m----> 7\u001b[0m trained_statement_uuid \u001b[38;5;241m=\u001b[39m d[\u001b[38;5;241m~\u001b[39md[\u001b[38;5;124m\"\u001b[39m\u001b[38;5;124mground_truth\u001b[39m\u001b[38;5;124m\"\u001b[39m]\u001b[38;5;241m.\u001b[39mstr\u001b[38;5;241m.\u001b[39mcontains(\u001b[38;5;124m\"\u001b[39m\u001b[38;5;124msorry\u001b[39m\u001b[38;5;124m\"\u001b[39m)]\u001b[38;5;241m.\u001b[39muuid\u001b[38;5;241m.\u001b[39mnunique()\u001b[38;5;241m.\u001b[39mtolist()\n",
      "\u001b[0;31mAttributeError\u001b[0m: 'int' object has no attribute 'tolist'"
     ]
    }
   ],
   "source": [
    "import datasets\n",
    "\n",
    "d = datasets.load_dataset(\"AI-MO/human-statements-dataset-v2-20250118\", split=\"train\", cache_dir=\"/mnt/moonfs/wanghaiming-m2/tmp/.cache\")\n",
    "\n",
    "d = d.to_pandas()\n",
    "\n"
   ]
  },
  {
   "cell_type": "code",
   "execution_count": 8,
   "metadata": {},
   "outputs": [
    {
     "name": "stdout",
     "output_type": "stream",
     "text": [
      "2252\n"
     ]
    }
   ],
   "source": [
    "import json\n",
    "trained_statement_uuid = d[~d[\"ground_truth\"].str.contains(\"sorry\")].statement_id.unique().tolist()\n",
    "print(len(trained_statement_uuid))\n",
    "with open(\"trained_statement_uuid.json\", \"w\") as f:\n",
    "    json.dump(trained_statement_uuid, f)"
   ]
  }
 ],
 "metadata": {
  "kernelspec": {
   "display_name": "autoformalization",
   "language": "python",
   "name": "python3"
  },
  "language_info": {
   "codemirror_mode": {
    "name": "ipython",
    "version": 3
   },
   "file_extension": ".py",
   "mimetype": "text/x-python",
   "name": "python",
   "nbconvert_exporter": "python",
   "pygments_lexer": "ipython3",
   "version": "3.12.2"
  }
 },
 "nbformat": 4,
 "nbformat_minor": 2
}
