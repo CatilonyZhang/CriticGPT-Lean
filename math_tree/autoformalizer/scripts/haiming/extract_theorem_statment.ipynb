{
 "cells": [
  {
   "cell_type": "code",
   "execution_count": null,
   "metadata": {},
   "outputs": [
    {
     "data": {
      "text/plain": [
       "[<autoformalizer.repl_lean_feedback.intermediate_states.TheoremSnapshot at 0x7f4ed199e5d0>]"
      ]
     },
     "execution_count": 5,
     "metadata": {},
     "output_type": "execute_result"
    }
   ],
   "source": [
    "import os\n",
    "\n",
    "os.environ[\"AUTOFORMALIZER_WORKSPACE\"] = \"/home/wanghaiming/project/\"\n",
    "from autoformalizer.repl_lean_feedback.intermediate_states import process_code\n",
    "\n",
    "\n",
    "code = \"\"\"\n",
    "import Mathlib\n",
    "\n",
    "variable (p q : Nat)\n",
    "\n",
    "def f (p q : Nat) : Int :=\n",
    "  p ^ 3 + 3 * q ^ 3 - 32\n",
    "\n",
    "/-Find all pair of primes  $(p,q)$ , such that  $p^3+3q^3-32$  is also a prime.-/\n",
    "theorem number_theory_8665 :\n",
    "  ∃! pair : Nat × Nat,\n",
    "    let (p, q) :=\n",
    " pair\n",
    "    Prime p ∧ Prime q ∧ Prime (f p q) ∧ p = 3 ∧ q = 2 := by\n",
    "  apply exists_unique_of_exists_of_unique\n",
    "  · use (3, 2)\n",
    "    constructor\n",
    "    · apply Nat.prime_iff.1 \n",
    "      exact Nat.prime_three\n",
    "    constructor\n",
    "    · apply Nat.prime_iff.1 \n",
    "      exact PNat.prime_two\n",
    "    constructor\n",
    "    · -- Show f(3,2) is prime\n",
    "      simp [f]\n",
    "      apply Int.prime_iff_natAbs_prime.2\n",
    "      decide\n",
    "    constructor\n",
    "    · rfl\n",
    "    · rfl\n",
    "  · intro ⟨p1, q1⟩ ⟨p2, q2⟩ h1 h2\n",
    "    rcases h1 with ⟨_, _, _, h31, h21⟩\n",
    "    rcases h2 with ⟨_, _, _, h32, h22⟩\n",
    "    ext\n",
    "    · exact h31.trans h32.symm\n",
    "    · exact h21.trans h22.symm\n",
    "\"\"\"\n",
    "\n",
    "result = process_code(code, mode=\"leaf\")\n"
   ]
  },
  {
   "cell_type": "code",
   "execution_count": null,
   "metadata": {},
   "outputs": [],
   "source": [
    "import copy\n",
    "\n",
    "BEGIN_TOKEN = [\"theorem\", \"lemma\", \"example\"]\n",
    "DELAYED_TOKEN = [\"let\", \"have\"]\n",
    "\n",
    "def get_statement(code):\n",
    "    ori_code = copy.copy(code)\n",
    "    split_indexs = []\n",
    "\n",
    "    # make sure the := is a seperate token\n",
    "    code.replace(\":=\", \" := \")\n",
    "\n",
    "    # split code into tokens\n",
    "    tokens = code.split()\n",
    "\n",
    "    index = 0\n",
    "    in_statement = False\n",
    "    in_delayed = False\n",
    "    for i, token in enumerate(tokens):\n",
    "        if token in BEGIN_TOKEN:\n",
    "            in_statement = True\n",
    "        if token in DELAYED_TOKEN:\n",
    "            in_delayed = True\n",
    "        if token == \":=\":\n",
    "            if in_statement and not in_delayed:\n",
    "                if tokens[i+1] == \"by\":\n",
    "                    while ori_code[index-len(\"by\"): index] != \"by\":\n",
    "                        index += 1\n",
    "                split_indexs.append(index)\n",
    "                continue\n",
    "            if in_statement and in_delayed:\n",
    "                in_delayed = False\n",
    "                continue\n",
    "        while ori_code[index-len(token): index] != token:\n",
    "            index += 1\n",
    "\n"
   ]
  },
  {
   "cell_type": "code",
   "execution_count": 7,
   "metadata": {},
   "outputs": [
    {
     "name": "stdout",
     "output_type": "stream",
     "text": [
      "Folder: None\n",
      "File: None\n",
      "Header: import Mathlib\n",
      "\n",
      "\n",
      "Context: import Mathlib\n",
      "\n",
      "variable (p q : Nat)\n",
      "\n",
      "def f (p q : Nat) : Int :=\n",
      "  p ^ 3 + 3 * q ^ 3 - 32\n",
      "\n",
      "/-Find all pair of primes  $(p,q)$ , such that  $p^3+3q^3-32$  is also a prime.-/\n",
      "\n",
      "Statement: theorem number_theory_8665 :\n",
      "  ∃! pair : Nat × Nat,\n",
      "    let (p, q) := by sorry\n",
      "Steps: [[{'tactic': 'apply exists_unique_of_exists_of_unique', 'position': {'start': {'line': 15, 'column': 2}, 'finish': {'line': 15, 'column': 41}}, 'goals_before': ['⊢ ∃! pair,\\n    match pair with\\n    | (p, q) => Prime p ∧ Prime q ∧ Prime (f p q) ∧ p = 3 ∧ q = 2'], 'goals_after': ['case hex\\n⊢ ∃ x,\\n    match x with\\n    | (p, q) => Prime p ∧ Prime q ∧ Prime (f p q) ∧ p = 3 ∧ q = 2', 'case hunique\\n⊢ ∀ (y₁ y₂ : ℕ × ℕ),\\n    (match y₁ with\\n      | (p, q) => Prime p ∧ Prime q ∧ Prime (f p q) ∧ p = 3 ∧ q = 2) →\\n      (match y₂ with\\n        | (p, q) => Prime p ∧ Prime q ∧ Prime (f p q) ∧ p = 3 ∧ q = 2) →\\n        y₁ = y₂'], 'comment': None}, {'tactic': '·', 'position': {'start': {'line': 16, 'column': 2}, 'finish': {'line': 16, 'column': 3}}, 'goals_before': ['case hex\\n⊢ ∃ x,\\n    match x with\\n    | (p, q) => Prime p ∧ Prime q ∧ Prime (f p q) ∧ p = 3 ∧ q = 2', 'case hunique\\n⊢ ∀ (y₁ y₂ : ℕ × ℕ),\\n    (match y₁ with\\n      | (p, q) => Prime p ∧ Prime q ∧ Prime (f p q) ∧ p = 3 ∧ q = 2) →\\n      (match y₂ with\\n        | (p, q) => Prime p ∧ Prime q ∧ Prime (f p q) ∧ p = 3 ∧ q = 2) →\\n        y₁ = y₂'], 'goals_after': ['case hex\\n⊢ ∃ x,\\n    match x with\\n    | (p, q) => Prime p ∧ Prime q ∧ Prime (f p q) ∧ p = 3 ∧ q = 2'], 'comment': None}, {'tactic': 'use (3, 2)', 'position': {'start': {'line': 16, 'column': 4}, 'finish': {'line': 16, 'column': 14}}, 'goals_before': ['case hex\\n⊢ ∃ x,\\n    match x with\\n    | (p, q) => Prime p ∧ Prime q ∧ Prime (f p q) ∧ p = 3 ∧ q = 2'], 'goals_after': ['case h\\n⊢ match (3, 2) with\\n  | (p, q) => Prime p ∧ Prime q ∧ Prime (f p q) ∧ p = 3 ∧ q = 2'], 'comment': None}, {'tactic': 'constructor', 'position': {'start': {'line': 17, 'column': 4}, 'finish': {'line': 17, 'column': 15}}, 'goals_before': ['case h\\n⊢ match (3, 2) with\\n  | (p, q) => Prime p ∧ Prime q ∧ Prime (f p q) ∧ p = 3 ∧ q = 2'], 'goals_after': ['case h.left\\n⊢ Prime 3', 'case h.right\\n⊢ Prime 2 ∧ Prime (f 3 2) ∧ 3 = 3 ∧ 2 = 2'], 'comment': None}, {'tactic': '·', 'position': {'start': {'line': 18, 'column': 4}, 'finish': {'line': 18, 'column': 5}}, 'goals_before': ['case h.left\\n⊢ Prime 3', 'case h.right\\n⊢ Prime 2 ∧ Prime (f 3 2) ∧ 3 = 3 ∧ 2 = 2'], 'goals_after': ['case h.left\\n⊢ Prime 3'], 'comment': None}, {'tactic': 'apply Nat.prime_iff.1', 'position': {'start': {'line': 18, 'column': 6}, 'finish': {'line': 18, 'column': 27}}, 'goals_before': ['case h.left\\n⊢ Prime 3'], 'goals_after': ['case h.left\\n⊢ Nat.Prime 3'], 'comment': None}, {'tactic': 'exact Nat.prime_three', 'position': {'start': {'line': 19, 'column': 6}, 'finish': {'line': 19, 'column': 27}}, 'goals_before': ['case h.left\\n⊢ Nat.Prime 3'], 'goals_after': [], 'comment': None}, {'tactic': 'constructor', 'position': {'start': {'line': 20, 'column': 4}, 'finish': {'line': 20, 'column': 15}}, 'goals_before': ['case h.right\\n⊢ Prime 2 ∧ Prime (f 3 2) ∧ 3 = 3 ∧ 2 = 2'], 'goals_after': ['case h.right.left\\n⊢ Prime 2', 'case h.right.right\\n⊢ Prime (f 3 2) ∧ 3 = 3 ∧ 2 = 2'], 'comment': None}, {'tactic': '·', 'position': {'start': {'line': 21, 'column': 4}, 'finish': {'line': 21, 'column': 5}}, 'goals_before': ['case h.right.left\\n⊢ Prime 2', 'case h.right.right\\n⊢ Prime (f 3 2) ∧ 3 = 3 ∧ 2 = 2'], 'goals_after': ['case h.right.left\\n⊢ Prime 2'], 'comment': None}, {'tactic': 'apply Nat.prime_iff.1', 'position': {'start': {'line': 21, 'column': 6}, 'finish': {'line': 21, 'column': 27}}, 'goals_before': ['case h.right.left\\n⊢ Prime 2'], 'goals_after': ['case h.right.left\\n⊢ Nat.Prime 2'], 'comment': None}, {'tactic': 'exact PNat.prime_two', 'position': {'start': {'line': 22, 'column': 6}, 'finish': {'line': 22, 'column': 26}}, 'goals_before': ['case h.right.left\\n⊢ Nat.Prime 2'], 'goals_after': [], 'comment': None}, {'tactic': 'constructor', 'position': {'start': {'line': 23, 'column': 4}, 'finish': {'line': 23, 'column': 15}}, 'goals_before': ['case h.right.right\\n⊢ Prime (f 3 2) ∧ 3 = 3 ∧ 2 = 2'], 'goals_after': ['case h.right.right.left\\n⊢ Prime (f 3 2)', 'case h.right.right.right\\n⊢ 3 = 3 ∧ 2 = 2'], 'comment': None}, {'tactic': '·', 'position': {'start': {'line': 24, 'column': 4}, 'finish': {'line': 24, 'column': 5}}, 'goals_before': ['case h.right.right.left\\n⊢ Prime (f 3 2)', 'case h.right.right.right\\n⊢ 3 = 3 ∧ 2 = 2'], 'goals_after': ['case h.right.right.left\\n⊢ Prime (f 3 2)'], 'comment': None}, {'tactic': 'simp [f]', 'position': {'start': {'line': 25, 'column': 6}, 'finish': {'line': 25, 'column': 14}}, 'goals_before': ['case h.right.right.left\\n⊢ Prime (f 3 2)'], 'goals_after': ['case h.right.right.left\\n⊢ Prime 19'], 'comment': None}, {'tactic': 'apply Int.prime_iff_natAbs_prime.2', 'position': {'start': {'line': 26, 'column': 6}, 'finish': {'line': 26, 'column': 40}}, 'goals_before': ['case h.right.right.left\\n⊢ Prime 19'], 'goals_after': ['case h.right.right.left\\n⊢ Nat.Prime (Int.natAbs 19)'], 'comment': None}, {'tactic': 'decide', 'position': {'start': {'line': 27, 'column': 6}, 'finish': {'line': 27, 'column': 12}}, 'goals_before': ['case h.right.right.left\\n⊢ Nat.Prime (Int.natAbs 19)'], 'goals_after': [], 'comment': None}, {'tactic': 'constructor', 'position': {'start': {'line': 28, 'column': 4}, 'finish': {'line': 28, 'column': 15}}, 'goals_before': ['case h.right.right.right\\n⊢ 3 = 3 ∧ 2 = 2'], 'goals_after': ['case h.right.right.right.left\\n⊢ 3 = 3', 'case h.right.right.right.right\\n⊢ 2 = 2'], 'comment': None}, {'tactic': '·', 'position': {'start': {'line': 29, 'column': 4}, 'finish': {'line': 29, 'column': 5}}, 'goals_before': ['case h.right.right.right.left\\n⊢ 3 = 3', 'case h.right.right.right.right\\n⊢ 2 = 2'], 'goals_after': ['case h.right.right.right.left\\n⊢ 3 = 3'], 'comment': None}, {'tactic': 'rfl', 'position': {'start': {'line': 29, 'column': 6}, 'finish': {'line': 29, 'column': 9}}, 'goals_before': ['case h.right.right.right.left\\n⊢ 3 = 3'], 'goals_after': [], 'comment': None}, {'tactic': '·', 'position': {'start': {'line': 30, 'column': 4}, 'finish': {'line': 30, 'column': 5}}, 'goals_before': ['case h.right.right.right.right\\n⊢ 2 = 2'], 'goals_after': ['case h.right.right.right.right\\n⊢ 2 = 2'], 'comment': None}, {'tactic': 'rfl', 'position': {'start': {'line': 30, 'column': 6}, 'finish': {'line': 30, 'column': 9}}, 'goals_before': ['case h.right.right.right.right\\n⊢ 2 = 2'], 'goals_after': [], 'comment': None}, {'tactic': '·', 'position': {'start': {'line': 31, 'column': 2}, 'finish': {'line': 31, 'column': 3}}, 'goals_before': ['case hunique\\n⊢ ∀ (y₁ y₂ : ℕ × ℕ),\\n    (match y₁ with\\n      | (p, q) => Prime p ∧ Prime q ∧ Prime (f p q) ∧ p = 3 ∧ q = 2) →\\n      (match y₂ with\\n        | (p, q) => Prime p ∧ Prime q ∧ Prime (f p q) ∧ p = 3 ∧ q = 2) →\\n        y₁ = y₂'], 'goals_after': ['case hunique\\n⊢ ∀ (y₁ y₂ : ℕ × ℕ),\\n    (match y₁ with\\n      | (p, q) => Prime p ∧ Prime q ∧ Prime (f p q) ∧ p = 3 ∧ q = 2) →\\n      (match y₂ with\\n        | (p, q) => Prime p ∧ Prime q ∧ Prime (f p q) ∧ p = 3 ∧ q = 2) →\\n        y₁ = y₂'], 'comment': None}, {'tactic': 'intro ⟨p1, q1⟩ ⟨p2, q2⟩ h1 h2', 'position': {'start': {'line': 31, 'column': 4}, 'finish': {'line': 31, 'column': 33}}, 'goals_before': ['case hunique\\n⊢ ∀ (y₁ y₂ : ℕ × ℕ),\\n    (match y₁ with\\n      | (p, q) => Prime p ∧ Prime q ∧ Prime (f p q) ∧ p = 3 ∧ q = 2) →\\n      (match y₂ with\\n        | (p, q) => Prime p ∧ Prime q ∧ Prime (f p q) ∧ p = 3 ∧ q = 2) →\\n        y₁ = y₂'], 'goals_after': ['case hunique\\np1 q1 p2 q2 : ℕ\\nh1 :\\n  match (p1, q1) with\\n  | (p, q) => Prime p ∧ Prime q ∧ Prime (f p q) ∧ p = 3 ∧ q = 2\\nh2 :\\n  match (p2, q2) with\\n  | (p, q) => Prime p ∧ Prime q ∧ Prime (f p q) ∧ p = 3 ∧ q = 2\\n⊢ (p1, q1) = (p2, q2)'], 'comment': None}, {'tactic': 'rcases h1 with ⟨_, _, _, h31, h21⟩', 'position': {'start': {'line': 32, 'column': 4}, 'finish': {'line': 32, 'column': 38}}, 'goals_before': ['case hunique\\np1 q1 p2 q2 : ℕ\\nh1 :\\n  match (p1, q1) with\\n  | (p, q) => Prime p ∧ Prime q ∧ Prime (f p q) ∧ p = 3 ∧ q = 2\\nh2 :\\n  match (p2, q2) with\\n  | (p, q) => Prime p ∧ Prime q ∧ Prime (f p q) ∧ p = 3 ∧ q = 2\\n⊢ (p1, q1) = (p2, q2)'], 'goals_after': ['case hunique.intro.intro.intro.intro\\np1 q1 p2 q2 : ℕ\\nh2 :\\n  match (p2, q2) with\\n  | (p, q) => Prime p ∧ Prime q ∧ Prime (f p q) ∧ p = 3 ∧ q = 2\\nleft✝² : Prime p1\\nleft✝¹ : Prime q1\\nleft✝ : Prime (f p1 q1)\\nh31 : p1 = 3\\nh21 : q1 = 2\\n⊢ (p1, q1) = (p2, q2)'], 'comment': None}, {'tactic': 'rcases h2 with ⟨_, _, _, h32, h22⟩', 'position': {'start': {'line': 33, 'column': 4}, 'finish': {'line': 33, 'column': 38}}, 'goals_before': ['case hunique.intro.intro.intro.intro\\np1 q1 p2 q2 : ℕ\\nh2 :\\n  match (p2, q2) with\\n  | (p, q) => Prime p ∧ Prime q ∧ Prime (f p q) ∧ p = 3 ∧ q = 2\\nleft✝² : Prime p1\\nleft✝¹ : Prime q1\\nleft✝ : Prime (f p1 q1)\\nh31 : p1 = 3\\nh21 : q1 = 2\\n⊢ (p1, q1) = (p2, q2)'], 'goals_after': ['case hunique.intro.intro.intro.intro.intro.intro.intro.intro\\np1 q1 p2 q2 : ℕ\\nleft✝⁵ : Prime p1\\nleft✝⁴ : Prime q1\\nleft✝³ : Prime (f p1 q1)\\nh31 : p1 = 3\\nh21 : q1 = 2\\nleft✝² : Prime p2\\nleft✝¹ : Prime q2\\nleft✝ : Prime (f p2 q2)\\nh32 : p2 = 3\\nh22 : q2 = 2\\n⊢ (p1, q1) = (p2, q2)'], 'comment': None}, {'tactic': 'ext', 'position': {'start': {'line': 34, 'column': 4}, 'finish': {'line': 34, 'column': 7}}, 'goals_before': ['case hunique.intro.intro.intro.intro.intro.intro.intro.intro\\np1 q1 p2 q2 : ℕ\\nleft✝⁵ : Prime p1\\nleft✝⁴ : Prime q1\\nleft✝³ : Prime (f p1 q1)\\nh31 : p1 = 3\\nh21 : q1 = 2\\nleft✝² : Prime p2\\nleft✝¹ : Prime q2\\nleft✝ : Prime (f p2 q2)\\nh32 : p2 = 3\\nh22 : q2 = 2\\n⊢ (p1, q1) = (p2, q2)'], 'goals_after': ['case hunique.intro.intro.intro.intro.intro.intro.intro.intro.fst\\np1 q1 p2 q2 : ℕ\\nleft✝⁵ : Prime p1\\nleft✝⁴ : Prime q1\\nleft✝³ : Prime (f p1 q1)\\nh31 : p1 = 3\\nh21 : q1 = 2\\nleft✝² : Prime p2\\nleft✝¹ : Prime q2\\nleft✝ : Prime (f p2 q2)\\nh32 : p2 = 3\\nh22 : q2 = 2\\n⊢ (p1, q1).1 = (p2, q2).1', 'case hunique.intro.intro.intro.intro.intro.intro.intro.intro.snd\\np1 q1 p2 q2 : ℕ\\nleft✝⁵ : Prime p1\\nleft✝⁴ : Prime q1\\nleft✝³ : Prime (f p1 q1)\\nh31 : p1 = 3\\nh21 : q1 = 2\\nleft✝² : Prime p2\\nleft✝¹ : Prime q2\\nleft✝ : Prime (f p2 q2)\\nh32 : p2 = 3\\nh22 : q2 = 2\\n⊢ (p1, q1).2 = (p2, q2).2'], 'comment': None}, {'tactic': '·', 'position': {'start': {'line': 35, 'column': 4}, 'finish': {'line': 35, 'column': 5}}, 'goals_before': ['case hunique.intro.intro.intro.intro.intro.intro.intro.intro.fst\\np1 q1 p2 q2 : ℕ\\nleft✝⁵ : Prime p1\\nleft✝⁴ : Prime q1\\nleft✝³ : Prime (f p1 q1)\\nh31 : p1 = 3\\nh21 : q1 = 2\\nleft✝² : Prime p2\\nleft✝¹ : Prime q2\\nleft✝ : Prime (f p2 q2)\\nh32 : p2 = 3\\nh22 : q2 = 2\\n⊢ (p1, q1).1 = (p2, q2).1', 'case hunique.intro.intro.intro.intro.intro.intro.intro.intro.snd\\np1 q1 p2 q2 : ℕ\\nleft✝⁵ : Prime p1\\nleft✝⁴ : Prime q1\\nleft✝³ : Prime (f p1 q1)\\nh31 : p1 = 3\\nh21 : q1 = 2\\nleft✝² : Prime p2\\nleft✝¹ : Prime q2\\nleft✝ : Prime (f p2 q2)\\nh32 : p2 = 3\\nh22 : q2 = 2\\n⊢ (p1, q1).2 = (p2, q2).2'], 'goals_after': ['case hunique.intro.intro.intro.intro.intro.intro.intro.intro.fst\\np1 q1 p2 q2 : ℕ\\nleft✝⁵ : Prime p1\\nleft✝⁴ : Prime q1\\nleft✝³ : Prime (f p1 q1)\\nh31 : p1 = 3\\nh21 : q1 = 2\\nleft✝² : Prime p2\\nleft✝¹ : Prime q2\\nleft✝ : Prime (f p2 q2)\\nh32 : p2 = 3\\nh22 : q2 = 2\\n⊢ (p1, q1).1 = (p2, q2).1'], 'comment': None}, {'tactic': 'exact h31.trans h32.symm', 'position': {'start': {'line': 35, 'column': 6}, 'finish': {'line': 35, 'column': 30}}, 'goals_before': ['case hunique.intro.intro.intro.intro.intro.intro.intro.intro.fst\\np1 q1 p2 q2 : ℕ\\nleft✝⁵ : Prime p1\\nleft✝⁴ : Prime q1\\nleft✝³ : Prime (f p1 q1)\\nh31 : p1 = 3\\nh21 : q1 = 2\\nleft✝² : Prime p2\\nleft✝¹ : Prime q2\\nleft✝ : Prime (f p2 q2)\\nh32 : p2 = 3\\nh22 : q2 = 2\\n⊢ (p1, q1).1 = (p2, q2).1'], 'goals_after': [], 'comment': None}, {'tactic': '·', 'position': {'start': {'line': 36, 'column': 4}, 'finish': {'line': 36, 'column': 5}}, 'goals_before': ['case hunique.intro.intro.intro.intro.intro.intro.intro.intro.snd\\np1 q1 p2 q2 : ℕ\\nleft✝⁵ : Prime p1\\nleft✝⁴ : Prime q1\\nleft✝³ : Prime (f p1 q1)\\nh31 : p1 = 3\\nh21 : q1 = 2\\nleft✝² : Prime p2\\nleft✝¹ : Prime q2\\nleft✝ : Prime (f p2 q2)\\nh32 : p2 = 3\\nh22 : q2 = 2\\n⊢ (p1, q1).2 = (p2, q2).2'], 'goals_after': ['case hunique.intro.intro.intro.intro.intro.intro.intro.intro.snd\\np1 q1 p2 q2 : ℕ\\nleft✝⁵ : Prime p1\\nleft✝⁴ : Prime q1\\nleft✝³ : Prime (f p1 q1)\\nh31 : p1 = 3\\nh21 : q1 = 2\\nleft✝² : Prime p2\\nleft✝¹ : Prime q2\\nleft✝ : Prime (f p2 q2)\\nh32 : p2 = 3\\nh22 : q2 = 2\\n⊢ (p1, q1).2 = (p2, q2).2'], 'comment': None}, {'tactic': 'exact h21.trans h22.symm', 'position': {'start': {'line': 36, 'column': 6}, 'finish': {'line': 36, 'column': 30}}, 'goals_before': ['case hunique.intro.intro.intro.intro.intro.intro.intro.intro.snd\\np1 q1 p2 q2 : ℕ\\nleft✝⁵ : Prime p1\\nleft✝⁴ : Prime q1\\nleft✝³ : Prime (f p1 q1)\\nh31 : p1 = 3\\nh21 : q1 = 2\\nleft✝² : Prime p2\\nleft✝¹ : Prime q2\\nleft✝ : Prime (f p2 q2)\\nh32 : p2 = 3\\nh22 : q2 = 2\\n⊢ (p1, q1).2 = (p2, q2).2'], 'goals_after': [], 'comment': None}]]\n",
      "Comment: /-Find all pair of primes  $(p,q)$ , such that  $p^3+3q^3-32$  is also a prime.-/\n",
      "\n"
     ]
    }
   ],
   "source": [
    "for r in result:\n",
    "    print(r)"
   ]
  }
 ],
 "metadata": {
  "kernelspec": {
   "display_name": "autoformalization",
   "language": "python",
   "name": "python3"
  },
  "language_info": {
   "codemirror_mode": {
    "name": "ipython",
    "version": 3
   },
   "file_extension": ".py",
   "mimetype": "text/x-python",
   "name": "python",
   "nbconvert_exporter": "python",
   "pygments_lexer": "ipython3",
   "version": "3.12.2"
  }
 },
 "nbformat": 4,
 "nbformat_minor": 2
}
